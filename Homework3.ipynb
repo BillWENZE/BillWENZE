{
  "cells": [
    {
      "cell_type": "markdown",
      "metadata": {
        "id": "view-in-github",
        "colab_type": "text"
      },
      "source": [
        "<a href=\"https://colab.research.google.com/github/BillWENZE/BillWENZE/blob/main/Homework3.ipynb\" target=\"_parent\"><img src=\"https://colab.research.google.com/assets/colab-badge.svg\" alt=\"Open In Colab\"/></a>"
      ]
    },
    {
      "metadata": {
        "id": "8f88a26cc68ad380"
      },
      "cell_type": "markdown",
      "source": [],
      "id": "8f88a26cc68ad380"
    },
    {
      "cell_type": "code",
      "id": "initial_id",
      "metadata": {
        "collapsed": true,
        "ExecuteTime": {
          "end_time": "2024-05-17T06:01:28.147999Z",
          "start_time": "2024-05-17T06:01:27.048627Z"
        },
        "id": "initial_id"
      },
      "source": [
        "import numpy as np\n",
        "import matplotlib.pyplot as plt\n",
        "%matplotlib inline\n",
        "\n",
        "import pandas as pd\n",
        "\n",
        "import warnings\n",
        "warnings.filterwarnings(\"ignore\")"
      ],
      "outputs": [],
      "execution_count": 1
    },
    {
      "metadata": {
        "ExecuteTime": {
          "end_time": "2024-05-17T06:01:59.836990Z",
          "start_time": "2024-05-17T06:01:55.335314Z"
        },
        "colab": {
          "base_uri": "https://localhost:8080/"
        },
        "id": "98032927874f625d",
        "outputId": "6697ae6d-d5b8-4a77-da35-31a15494f3f0"
      },
      "cell_type": "code",
      "source": [
        "url = 'https://anaconda.org/conda-forge/libta-lib/0.4.0/download/linux-64/libta-lib-0.4.0-h166bdaf_1.tar.bz2'\n",
        "!curl -L $url | tar xj -C /usr/lib/x86_64-linux-gnu/ lib --strip-components=1\n",
        "url = 'https://anaconda.org/conda-forge/ta-lib/0.4.19/download/linux-64/ta-lib-0.4.19-py310hde88566_4.tar.bz2'\n",
        "!curl -L $url | tar xj -C /usr/local/lib/python3.10/dist-packages/ lib/python3.10/site-packages/talib --strip-components=3\n",
        "! pip install yfinance"
      ],
      "id": "98032927874f625d",
      "outputs": [
        {
          "output_type": "stream",
          "name": "stdout",
          "text": [
            "  % Total    % Received % Xferd  Average Speed   Time    Time     Time  Current\n",
            "                                 Dload  Upload   Total   Spent    Left  Speed\n",
            "100  4143    0  4143    0     0   4151      0 --:--:-- --:--:-- --:--:--  4151\n",
            "100  517k  100  517k    0     0   201k      0  0:00:02  0:00:02 --:--:--  683k\n",
            "  % Total    % Received % Xferd  Average Speed   Time    Time     Time  Current\n",
            "                                 Dload  Upload   Total   Spent    Left  Speed\n",
            "100  4155    0  4155    0     0   7949      0 --:--:-- --:--:-- --:--:--  7959\n",
            "100  392k  100  392k    0     0   175k      0  0:00:02  0:00:02 --:--:--  293k\n",
            "Requirement already satisfied: yfinance in /usr/local/lib/python3.10/dist-packages (0.2.38)\n",
            "Requirement already satisfied: pandas>=1.3.0 in /usr/local/lib/python3.10/dist-packages (from yfinance) (2.0.3)\n",
            "Requirement already satisfied: numpy>=1.16.5 in /usr/local/lib/python3.10/dist-packages (from yfinance) (1.25.2)\n",
            "Requirement already satisfied: requests>=2.31 in /usr/local/lib/python3.10/dist-packages (from yfinance) (2.31.0)\n",
            "Requirement already satisfied: multitasking>=0.0.7 in /usr/local/lib/python3.10/dist-packages (from yfinance) (0.0.11)\n",
            "Requirement already satisfied: lxml>=4.9.1 in /usr/local/lib/python3.10/dist-packages (from yfinance) (4.9.4)\n",
            "Requirement already satisfied: appdirs>=1.4.4 in /usr/local/lib/python3.10/dist-packages (from yfinance) (1.4.4)\n",
            "Requirement already satisfied: pytz>=2022.5 in /usr/local/lib/python3.10/dist-packages (from yfinance) (2023.4)\n",
            "Requirement already satisfied: frozendict>=2.3.4 in /usr/local/lib/python3.10/dist-packages (from yfinance) (2.4.4)\n",
            "Requirement already satisfied: peewee>=3.16.2 in /usr/local/lib/python3.10/dist-packages (from yfinance) (3.17.5)\n",
            "Requirement already satisfied: beautifulsoup4>=4.11.1 in /usr/local/lib/python3.10/dist-packages (from yfinance) (4.12.3)\n",
            "Requirement already satisfied: html5lib>=1.1 in /usr/local/lib/python3.10/dist-packages (from yfinance) (1.1)\n",
            "Requirement already satisfied: soupsieve>1.2 in /usr/local/lib/python3.10/dist-packages (from beautifulsoup4>=4.11.1->yfinance) (2.5)\n",
            "Requirement already satisfied: six>=1.9 in /usr/local/lib/python3.10/dist-packages (from html5lib>=1.1->yfinance) (1.16.0)\n",
            "Requirement already satisfied: webencodings in /usr/local/lib/python3.10/dist-packages (from html5lib>=1.1->yfinance) (0.5.1)\n",
            "Requirement already satisfied: python-dateutil>=2.8.2 in /usr/local/lib/python3.10/dist-packages (from pandas>=1.3.0->yfinance) (2.8.2)\n",
            "Requirement already satisfied: tzdata>=2022.1 in /usr/local/lib/python3.10/dist-packages (from pandas>=1.3.0->yfinance) (2024.1)\n",
            "Requirement already satisfied: charset-normalizer<4,>=2 in /usr/local/lib/python3.10/dist-packages (from requests>=2.31->yfinance) (3.3.2)\n",
            "Requirement already satisfied: idna<4,>=2.5 in /usr/local/lib/python3.10/dist-packages (from requests>=2.31->yfinance) (3.7)\n",
            "Requirement already satisfied: urllib3<3,>=1.21.1 in /usr/local/lib/python3.10/dist-packages (from requests>=2.31->yfinance) (2.0.7)\n",
            "Requirement already satisfied: certifi>=2017.4.17 in /usr/local/lib/python3.10/dist-packages (from requests>=2.31->yfinance) (2024.2.2)\n"
          ]
        }
      ],
      "execution_count": 2
    },
    {
      "metadata": {
        "ExecuteTime": {
          "end_time": "2024-05-17T06:02:30.484688Z",
          "start_time": "2024-05-17T06:02:28.456960Z"
        },
        "colab": {
          "base_uri": "https://localhost:8080/"
        },
        "id": "8a2fc107a8af5581",
        "outputId": "dfb389ce-fd3e-446d-febc-3b4b1ee2bfcd"
      },
      "cell_type": "code",
      "source": [
        "pip install scikit-learn"
      ],
      "id": "8a2fc107a8af5581",
      "outputs": [
        {
          "output_type": "stream",
          "name": "stdout",
          "text": [
            "Requirement already satisfied: scikit-learn in /usr/local/lib/python3.10/dist-packages (1.2.2)\n",
            "Requirement already satisfied: numpy>=1.17.3 in /usr/local/lib/python3.10/dist-packages (from scikit-learn) (1.25.2)\n",
            "Requirement already satisfied: scipy>=1.3.2 in /usr/local/lib/python3.10/dist-packages (from scikit-learn) (1.11.4)\n",
            "Requirement already satisfied: joblib>=1.1.1 in /usr/local/lib/python3.10/dist-packages (from scikit-learn) (1.4.2)\n",
            "Requirement already satisfied: threadpoolctl>=2.0.0 in /usr/local/lib/python3.10/dist-packages (from scikit-learn) (3.5.0)\n"
          ]
        }
      ],
      "execution_count": 3
    },
    {
      "metadata": {
        "ExecuteTime": {
          "end_time": "2024-05-17T06:03:54.892204Z",
          "start_time": "2024-05-17T06:03:52.722375Z"
        },
        "colab": {
          "base_uri": "https://localhost:8080/"
        },
        "id": "74015a90f630830a",
        "outputId": "b0f80460-d805-4bf2-d4f6-844fba112214"
      },
      "cell_type": "code",
      "source": [
        "pip install TA-Lib"
      ],
      "id": "74015a90f630830a",
      "outputs": [
        {
          "output_type": "stream",
          "name": "stdout",
          "text": [
            "Collecting TA-Lib\n",
            "  Downloading TA-Lib-0.4.28.tar.gz (357 kB)\n",
            "\u001b[?25l     \u001b[90m━━━━━━━━━━━━━━━━━━━━━━━━━━━━━━━━━━━━━━━━\u001b[0m \u001b[32m0.0/357.1 kB\u001b[0m \u001b[31m?\u001b[0m eta \u001b[36m-:--:--\u001b[0m\r\u001b[2K     \u001b[91m━━━━━━━━\u001b[0m\u001b[90m╺\u001b[0m\u001b[90m━━━━━━━━━━━━━━━━━━━━━━━━━━━━━━━\u001b[0m \u001b[32m71.7/357.1 kB\u001b[0m \u001b[31m1.9 MB/s\u001b[0m eta \u001b[36m0:00:01\u001b[0m\r\u001b[2K     \u001b[90m━━━━━━━━━━━━━━━━━━━━━━━━━━━━━━━━━━━━━━━━\u001b[0m \u001b[32m357.1/357.1 kB\u001b[0m \u001b[31m5.3 MB/s\u001b[0m eta \u001b[36m0:00:00\u001b[0m\n",
            "\u001b[?25h"
          ]
        }
      ],
      "execution_count": null
    },
    {
      "metadata": {
        "ExecuteTime": {
          "end_time": "2024-05-17T06:02:36.145354Z",
          "start_time": "2024-05-17T06:02:34.956768Z"
        },
        "id": "2a75de98d6ae92bf"
      },
      "cell_type": "code",
      "source": [
        "import yfinance as yf\n",
        "import talib as ta\n",
        "from talib import MA_Type\n",
        "from sklearn.model_selection import RandomizedSearchCV\n",
        "from sklearn.svm import SVC\n",
        "from sklearn.model_selection import TimeSeriesSplit as tscv"
      ],
      "id": "2a75de98d6ae92bf",
      "outputs": [],
      "execution_count": null
    },
    {
      "metadata": {
        "ExecuteTime": {
          "end_time": "2024-05-17T06:02:39.624639Z",
          "start_time": "2024-05-17T06:02:38.591027Z"
        },
        "id": "b10ce0376c4d428",
        "outputId": "ad5fab83-6eec-492e-bfef-c3e06bc347c8"
      },
      "cell_type": "code",
      "source": [
        "msft=yf.Ticker('MSFT')\n",
        "df=msft.history('max')\n",
        "df"
      ],
      "id": "b10ce0376c4d428",
      "outputs": [
        {
          "data": {
            "text/plain": [
              "                                 Open        High         Low       Close  \\\n",
              "Date                                                                        \n",
              "1986-03-13 00:00:00-05:00    0.054693    0.062736    0.054693    0.060055   \n",
              "1986-03-14 00:00:00-05:00    0.060055    0.063272    0.060055    0.062199   \n",
              "1986-03-17 00:00:00-05:00    0.062199    0.063808    0.062199    0.063272   \n",
              "1986-03-18 00:00:00-05:00    0.063272    0.063808    0.061127    0.061663   \n",
              "1986-03-19 00:00:00-05:00    0.061663    0.062199    0.060055    0.060591   \n",
              "...                               ...         ...         ...         ...   \n",
              "2024-05-10 00:00:00-04:00  412.196509  414.632118  411.058547  413.993256   \n",
              "2024-05-13 00:00:00-04:00  417.257382  417.596766  410.080325  412.975098   \n",
              "2024-05-14 00:00:00-04:00  411.278163  416.738316  410.809008  415.809998   \n",
              "2024-05-15 00:00:00-04:00  417.899994  423.809998  417.269989  423.079987   \n",
              "2024-05-16 00:00:00-04:00  421.799988  425.420013  420.350006  420.989990   \n",
              "\n",
              "                               Volume  Dividends  Stock Splits  \n",
              "Date                                                            \n",
              "1986-03-13 00:00:00-05:00  1031788800       0.00           0.0  \n",
              "1986-03-14 00:00:00-05:00   308160000       0.00           0.0  \n",
              "1986-03-17 00:00:00-05:00   133171200       0.00           0.0  \n",
              "1986-03-18 00:00:00-05:00    67766400       0.00           0.0  \n",
              "1986-03-19 00:00:00-05:00    47894400       0.00           0.0  \n",
              "...                               ...        ...           ...  \n",
              "2024-05-10 00:00:00-04:00    13402300       0.00           0.0  \n",
              "2024-05-13 00:00:00-04:00    15440200       0.00           0.0  \n",
              "2024-05-14 00:00:00-04:00    15109300       0.00           0.0  \n",
              "2024-05-15 00:00:00-04:00    22239500       0.75           0.0  \n",
              "2024-05-16 00:00:00-04:00    17512400       0.00           0.0  \n",
              "\n",
              "[9622 rows x 7 columns]"
            ],
            "text/html": [
              "<div>\n",
              "<style scoped>\n",
              "    .dataframe tbody tr th:only-of-type {\n",
              "        vertical-align: middle;\n",
              "    }\n",
              "\n",
              "    .dataframe tbody tr th {\n",
              "        vertical-align: top;\n",
              "    }\n",
              "\n",
              "    .dataframe thead th {\n",
              "        text-align: right;\n",
              "    }\n",
              "</style>\n",
              "<table border=\"1\" class=\"dataframe\">\n",
              "  <thead>\n",
              "    <tr style=\"text-align: right;\">\n",
              "      <th></th>\n",
              "      <th>Open</th>\n",
              "      <th>High</th>\n",
              "      <th>Low</th>\n",
              "      <th>Close</th>\n",
              "      <th>Volume</th>\n",
              "      <th>Dividends</th>\n",
              "      <th>Stock Splits</th>\n",
              "    </tr>\n",
              "    <tr>\n",
              "      <th>Date</th>\n",
              "      <th></th>\n",
              "      <th></th>\n",
              "      <th></th>\n",
              "      <th></th>\n",
              "      <th></th>\n",
              "      <th></th>\n",
              "      <th></th>\n",
              "    </tr>\n",
              "  </thead>\n",
              "  <tbody>\n",
              "    <tr>\n",
              "      <th>1986-03-13 00:00:00-05:00</th>\n",
              "      <td>0.054693</td>\n",
              "      <td>0.062736</td>\n",
              "      <td>0.054693</td>\n",
              "      <td>0.060055</td>\n",
              "      <td>1031788800</td>\n",
              "      <td>0.00</td>\n",
              "      <td>0.0</td>\n",
              "    </tr>\n",
              "    <tr>\n",
              "      <th>1986-03-14 00:00:00-05:00</th>\n",
              "      <td>0.060055</td>\n",
              "      <td>0.063272</td>\n",
              "      <td>0.060055</td>\n",
              "      <td>0.062199</td>\n",
              "      <td>308160000</td>\n",
              "      <td>0.00</td>\n",
              "      <td>0.0</td>\n",
              "    </tr>\n",
              "    <tr>\n",
              "      <th>1986-03-17 00:00:00-05:00</th>\n",
              "      <td>0.062199</td>\n",
              "      <td>0.063808</td>\n",
              "      <td>0.062199</td>\n",
              "      <td>0.063272</td>\n",
              "      <td>133171200</td>\n",
              "      <td>0.00</td>\n",
              "      <td>0.0</td>\n",
              "    </tr>\n",
              "    <tr>\n",
              "      <th>1986-03-18 00:00:00-05:00</th>\n",
              "      <td>0.063272</td>\n",
              "      <td>0.063808</td>\n",
              "      <td>0.061127</td>\n",
              "      <td>0.061663</td>\n",
              "      <td>67766400</td>\n",
              "      <td>0.00</td>\n",
              "      <td>0.0</td>\n",
              "    </tr>\n",
              "    <tr>\n",
              "      <th>1986-03-19 00:00:00-05:00</th>\n",
              "      <td>0.061663</td>\n",
              "      <td>0.062199</td>\n",
              "      <td>0.060055</td>\n",
              "      <td>0.060591</td>\n",
              "      <td>47894400</td>\n",
              "      <td>0.00</td>\n",
              "      <td>0.0</td>\n",
              "    </tr>\n",
              "    <tr>\n",
              "      <th>...</th>\n",
              "      <td>...</td>\n",
              "      <td>...</td>\n",
              "      <td>...</td>\n",
              "      <td>...</td>\n",
              "      <td>...</td>\n",
              "      <td>...</td>\n",
              "      <td>...</td>\n",
              "    </tr>\n",
              "    <tr>\n",
              "      <th>2024-05-10 00:00:00-04:00</th>\n",
              "      <td>412.196509</td>\n",
              "      <td>414.632118</td>\n",
              "      <td>411.058547</td>\n",
              "      <td>413.993256</td>\n",
              "      <td>13402300</td>\n",
              "      <td>0.00</td>\n",
              "      <td>0.0</td>\n",
              "    </tr>\n",
              "    <tr>\n",
              "      <th>2024-05-13 00:00:00-04:00</th>\n",
              "      <td>417.257382</td>\n",
              "      <td>417.596766</td>\n",
              "      <td>410.080325</td>\n",
              "      <td>412.975098</td>\n",
              "      <td>15440200</td>\n",
              "      <td>0.00</td>\n",
              "      <td>0.0</td>\n",
              "    </tr>\n",
              "    <tr>\n",
              "      <th>2024-05-14 00:00:00-04:00</th>\n",
              "      <td>411.278163</td>\n",
              "      <td>416.738316</td>\n",
              "      <td>410.809008</td>\n",
              "      <td>415.809998</td>\n",
              "      <td>15109300</td>\n",
              "      <td>0.00</td>\n",
              "      <td>0.0</td>\n",
              "    </tr>\n",
              "    <tr>\n",
              "      <th>2024-05-15 00:00:00-04:00</th>\n",
              "      <td>417.899994</td>\n",
              "      <td>423.809998</td>\n",
              "      <td>417.269989</td>\n",
              "      <td>423.079987</td>\n",
              "      <td>22239500</td>\n",
              "      <td>0.75</td>\n",
              "      <td>0.0</td>\n",
              "    </tr>\n",
              "    <tr>\n",
              "      <th>2024-05-16 00:00:00-04:00</th>\n",
              "      <td>421.799988</td>\n",
              "      <td>425.420013</td>\n",
              "      <td>420.350006</td>\n",
              "      <td>420.989990</td>\n",
              "      <td>17512400</td>\n",
              "      <td>0.00</td>\n",
              "      <td>0.0</td>\n",
              "    </tr>\n",
              "  </tbody>\n",
              "</table>\n",
              "<p>9622 rows × 7 columns</p>\n",
              "</div>"
            ]
          },
          "execution_count": 6,
          "metadata": {},
          "output_type": "execute_result"
        }
      ],
      "execution_count": null
    },
    {
      "metadata": {
        "ExecuteTime": {
          "end_time": "2024-05-17T06:02:54.316099Z",
          "start_time": "2024-05-17T06:02:54.312943Z"
        },
        "id": "92a19c381d5242da",
        "outputId": "d6e6eab7-e546-481b-d72e-0a8120fa9919"
      },
      "cell_type": "code",
      "source": [
        "help(ta.CCI)"
      ],
      "id": "92a19c381d5242da",
      "outputs": [
        {
          "name": "stdout",
          "output_type": "stream",
          "text": [
            "Help on function CCI in module talib._ta_lib:\n",
            "\n",
            "CCI(high, low, close, timeperiod=-2147483648)\n",
            "    CCI(high, low, close[, timeperiod=?])\n",
            "    \n",
            "    Commodity Channel Index (Momentum Indicators)\n",
            "    \n",
            "    Inputs:\n",
            "        prices: ['high', 'low', 'close']\n",
            "    Parameters:\n",
            "        timeperiod: 14\n",
            "    Outputs:\n",
            "        real\n",
            "\n"
          ]
        }
      ],
      "execution_count": null
    },
    {
      "metadata": {
        "ExecuteTime": {
          "end_time": "2024-05-17T06:12:27.058171Z",
          "start_time": "2024-05-17T06:12:27.048635Z"
        },
        "id": "87dbec5cb02b507a"
      },
      "cell_type": "code",
      "source": [
        "df['High Shifted']=df['High'].shift(1)\n",
        "df['Low Shifted'] = df['Low'].shift(1)\n",
        "df['Close Shifted'] = df['Close'].shift(1)\n",
        "df['Upper BBand'], df['Middle BBand'],df['Lower BBand']= ta.BBANDS(df['Close Shifted'],timeperiod=20)\n",
        "df['RSI'] = ta.RSI(np.array(df['Close Shifted']), timeperiod=14)\n",
        "df['Macd'], df['Macd Signal'],df['Macd Hist'] = ta.MACD(df['Close Shifted'], fastperiod=12, slowperiod=26, signalperiod=9)\n",
        "df['Momentum'] = ta.MOM(df['Close Shifted'],timeperiod=12)\n",
        "df['OBV'] = ta.OBV(df['Close Shifted'],df['Volume'].shift(1))\n",
        "df['ATR'] = ta.ATR(df['High'].shift(1),df['Low'].shift(1),df['Close'].shift(1))\n",
        "df['Returns'] = np.log(df['Close']/df['Close'].shift(1))\n",
        "df['CCI']=ta.CCI(df['High Shifted'],df['Low Shifted'],df['Close Shifted'])\n",
        "df.dropna(inplace=True)"
      ],
      "id": "87dbec5cb02b507a",
      "outputs": [],
      "execution_count": null
    },
    {
      "metadata": {
        "ExecuteTime": {
          "end_time": "2024-05-17T06:12:28.306235Z",
          "start_time": "2024-05-17T06:12:28.298616Z"
        },
        "id": "494a7ec48a547191",
        "outputId": "0afd06e5-0342-465e-9c24-cd0da70bbad1"
      },
      "cell_type": "code",
      "source": [
        "def label_returns(r):\n",
        "    if r >= 0.01:\n",
        "        return 1  # Long the stock\n",
        "    elif r <= -0.01:\n",
        "        return -1  # Short the stock\n",
        "    else:\n",
        "        return 0  # Do nothing\n",
        "\n",
        "# Apply the function to create the label\n",
        "df['Label'] = df['Returns'].apply(label_returns)\n",
        "df['Returns'] = np.log(df['Close'] / df['Close'].shift(1))\n",
        "df['Returns']"
      ],
      "id": "494a7ec48a547191",
      "outputs": [
        {
          "data": {
            "text/plain": [
              "Date\n",
              "1986-05-01 00:00:00-04:00         NaN\n",
              "1986-05-02 00:00:00-04:00    0.000000\n",
              "1986-05-05 00:00:00-04:00   -0.007905\n",
              "1986-05-06 00:00:00-04:00    0.007905\n",
              "1986-05-07 00:00:00-04:00    0.000000\n",
              "                               ...   \n",
              "2024-05-10 00:00:00-04:00    0.005852\n",
              "2024-05-13 00:00:00-04:00   -0.002462\n",
              "2024-05-14 00:00:00-04:00    0.006841\n",
              "2024-05-15 00:00:00-04:00    0.017333\n",
              "2024-05-16 00:00:00-04:00   -0.004952\n",
              "Name: Returns, Length: 9588, dtype: float64"
            ]
          },
          "execution_count": 19,
          "metadata": {},
          "output_type": "execute_result"
        }
      ],
      "execution_count": null
    },
    {
      "metadata": {
        "ExecuteTime": {
          "end_time": "2024-05-17T06:20:12.837028Z",
          "start_time": "2024-05-17T06:20:12.834988Z"
        },
        "id": "da4a38023ad53127"
      },
      "cell_type": "code",
      "source": [
        "import pandas as pd\n",
        "from sklearn.model_selection import train_test_split\n",
        "from sklearn.preprocessing import MinMaxScaler"
      ],
      "id": "da4a38023ad53127",
      "outputs": [],
      "execution_count": null
    },
    {
      "metadata": {
        "ExecuteTime": {
          "end_time": "2024-05-17T06:20:13.795064Z",
          "start_time": "2024-05-17T06:20:13.791971Z"
        },
        "id": "22e7fb7d5cab3c1"
      },
      "cell_type": "code",
      "source": [
        "# Exclude specified columns to create the feature space X and the labels y\n",
        "\n",
        "X = df.drop(columns=['Label', 'Returns', 'Open', 'Close', 'Volume', 'High', 'Low', 'Dividends', 'Stock Splits'])"
      ],
      "id": "22e7fb7d5cab3c1",
      "outputs": [],
      "execution_count": null
    },
    {
      "metadata": {
        "ExecuteTime": {
          "end_time": "2024-05-17T06:20:14.802140Z",
          "start_time": "2024-05-17T06:20:14.793471Z"
        },
        "id": "dae437857062dc25"
      },
      "cell_type": "code",
      "source": [
        "y = df['Label']  # Assuming 'Label' contains your label data\n",
        "# Split the dataset: All data except the last 30 days for training, last 30 days for testing\n",
        "train_data = df.iloc[:-30]\n",
        "test_data = df.iloc[-30:]\n",
        "\n",
        "# Extract features and labels for both training and testing sets\n",
        "X_train = train_data.drop(columns=['Label', 'Returns', 'Open', 'Close', 'Volume', 'High', 'Low', 'Dividends', 'Stock Splits'])\n",
        "y_train = train_data['Label']\n",
        "X_test = test_data.drop(columns=['Label', 'Returns', 'Open', 'Close', 'Volume', 'High', 'Low', 'Dividends', 'Stock Splits'])\n",
        "y_test = test_data['Label']\n",
        "\n",
        "# Initialize and apply MinMaxScaler\n",
        "scaler = MinMaxScaler()\n",
        "\n",
        "# Fit and transform the training data\n",
        "X_train_scaled = scaler.fit_transform(X_train)\n",
        "\n",
        "# Transform the test data using the same scaler\n",
        "X_test_scaled = scaler.transform(X_test)\n"
      ],
      "id": "dae437857062dc25",
      "outputs": [],
      "execution_count": null
    },
    {
      "metadata": {
        "jupyter": {
          "is_executing": true
        },
        "ExecuteTime": {
          "start_time": "2024-05-17T06:28:37.491266Z"
        },
        "id": "935bc9b045b05f33",
        "outputId": "8210d94f-d4e5-468b-f416-645c2789351e"
      },
      "cell_type": "code",
      "source": [
        "from sklearn.svm import SVC\n",
        "from sklearn.model_selection import RandomizedSearchCV, TimeSeriesSplit\n",
        "from sklearn.metrics import accuracy_score, precision_score, recall_score, f1_score\n",
        "import numpy as np\n",
        "\n",
        "# Sample data loading and preparation\n",
        "# X, y = load_your_data()\n",
        "\n",
        "# Time Series Split configuration\n",
        "tscv = TimeSeriesSplit(n_splits=5, test_size=1, gap=0)\n",
        "\n",
        "# Parameter grid for RandomizedSearchCV\n",
        "param_distributions = {\n",
        "    'C': [0.3, 0.5, 1, 5, 10, 20, 30, 50, 100],\n",
        "    'kernel': ['linear', 'rbf']\n",
        "}\n",
        "\n",
        "# SVM model initialization\n",
        "svm = SVC()\n",
        "\n",
        "# Setting up RandomizedSearchCV\n",
        "random_search = RandomizedSearchCV(\n",
        "    estimator=svm,\n",
        "    param_distributions=param_distributions,\n",
        "    n_iter=10,  # Number of parameter settings sampled (adjust as needed)\n",
        "    scoring='f1_macro',\n",
        "    cv=tscv,\n",
        "    verbose=1,\n",
        "    random_state=42\n",
        ")\n",
        "\n",
        "# Fitting RandomizedSearchCV\n",
        "random_search.fit(X, y)\n",
        "\n",
        "# Best parameters and best score\n",
        "best_params = random_search.best_params_\n",
        "best_score = random_search.best_score_\n",
        "\n",
        "# Assuming you have a separate test set\n",
        "# X_test, y_test = load_your_test_data()\n",
        "y_test_pred = random_search.predict(X_test)\n",
        "\n",
        "# Evaluating performance on the test data\n",
        "test_accuracy = accuracy_score(y_test, y_test_pred)\n",
        "test_precision = precision_score(y_test, y_test_pred, average='macro')\n",
        "test_recall = recall_score(y_test, y_test_pred, average='macro')\n",
        "test_f1 = f1_score(y_test, y_test_pred, average='macro')\n",
        "\n",
        "print(f\"Best Parameters: {best_params}\")\n",
        "print(f\"Best CV Score: {best_score}\")\n",
        "print(f\"Test Accuracy: {test_accuracy}\")\n",
        "print(f\"Test Precision: {test_precision}\")\n",
        "print(f\"Test Recall: {test_recall}\")\n",
        "print(f\"Test F1 Score: {test_f1}\")\n"
      ],
      "id": "935bc9b045b05f33",
      "outputs": [
        {
          "name": "stdout",
          "output_type": "stream",
          "text": [
            "Fitting 5 folds for each of 10 candidates, totalling 50 fits\n"
          ]
        }
      ],
      "execution_count": null
    },
    {
      "metadata": {
        "ExecuteTime": {
          "end_time": "2024-05-17T06:21:45.610798Z",
          "start_time": "2024-05-17T06:21:45.608537Z"
        },
        "id": "ec62ea0f4b9f6c59"
      },
      "cell_type": "code",
      "source": [
        "from sklearn.linear_model import LogisticRegression\n",
        "from sklearn.model_selection import GridSearchCV, TimeSeriesSplit\n",
        "from sklearn.metrics import accuracy_score\n"
      ],
      "id": "ec62ea0f4b9f6c59",
      "outputs": [],
      "execution_count": null
    },
    {
      "metadata": {
        "ExecuteTime": {
          "end_time": "2024-05-17T06:28:26.629828Z",
          "start_time": "2024-05-17T06:28:26.629774Z"
        },
        "id": "a7c9c0663049a10f"
      },
      "cell_type": "code",
      "source": [
        "# Setting up the TimeSeriesSplit\n",
        "tscv = TimeSeriesSplit(n_splits=5, test_size=1, gap=0)\n",
        "\n",
        "# Parameters for GridSearchCV\n",
        "param_grid = {\n",
        "    'penalty': ['l1', 'l2'],\n",
        "    'C': [0.1, 0.5, 1, 2, 3, 4, 5, 10]\n",
        "}\n",
        "\n",
        "# Setting up the Logistic Regression model\n",
        "model = LogisticRegression(solver='liblinear')\n",
        "\n",
        "# Setting up GridSearchCV\n",
        "grid_search = GridSearchCV(estimator=model, param_grid=param_grid, cv=tscv, scoring='accuracy')\n",
        "\n",
        "# Fitting GridSearchCV\n",
        "grid_search.fit(X, y)"
      ],
      "id": "a7c9c0663049a10f",
      "outputs": [],
      "execution_count": null
    },
    {
      "metadata": {
        "id": "547c5f8078fa7cd5"
      },
      "cell_type": "code",
      "source": [
        "\n",
        "# Best parameters and best score\n",
        "best_params = grid_search.best_params_\n",
        "best_score = grid_search.best_score_\n",
        "\n",
        "# Evaluating on the training set (using the best estimator)\n",
        "y_train_pred = grid_search.predict(X)\n",
        "train_accuracy = accuracy_score(y, y_train_pred)\n",
        "\n",
        "# Assuming you have a separate test set\n",
        "# X_test, y_test = load_your_test_data()\n",
        "y_test_pred = grid_search.predict(X_test)\n",
        "test_accuracy = accuracy_score(y_test, y_test_pred)\n",
        "\n",
        "print(f\"Best Parameters: {best_params}\")\n",
        "print(f\"Best CV Score: {best_score}\")\n",
        "print(f\"Training Accuracy: {train_accuracy}\")\n",
        "print(f\"Test Accuracy: {test_accuracy}\")\n"
      ],
      "id": "547c5f8078fa7cd5",
      "outputs": [],
      "execution_count": null
    },
    {
      "metadata": {
        "id": "68420fe1d2db0963"
      },
      "cell_type": "code",
      "outputs": [],
      "execution_count": null,
      "source": [
        "from sklearn.svm import SVC\n",
        "from sklearn.model_selection import RandomizedSearchCV, TimeSeriesSplit\n",
        "from sklearn.metrics import accuracy_score, precision_score, recall_score, f1_score\n",
        "\n",
        "# Sample data preparation\n",
        "# X, y = load_your_data()  # Load your feature matrix X and label vector y\n",
        "\n",
        "# Time Series Cross-Validator\n",
        "tscv = TimeSeriesSplit(n_splits=5, test_size=1, gap=0)\n",
        "\n",
        "# Parameter distribution for RandomizedSearchCV\n",
        "param_distributions = {\n",
        "    'C': [0.3, 0.5, 1, 5, 10, 20, 30, 50, 100],\n",
        "    'kernel': ['linear', 'rbf']\n",
        "}\n",
        "\n",
        "# SVM model initialization\n",
        "svm_model = SVC()\n",
        "\n",
        "# Randomized Search with Cross-Validation\n",
        "random_search = RandomizedSearchCV(svm_model, param_distributions=param_distributions, n_iter=10,\n",
        "                                   scoring='f1_macro', cv=tscv, verbose=2, random_state=42)\n",
        "random_search.fit(X, y)\n",
        "\n",
        "# Best parameters and best score\n",
        "best_params = random_search.best_params_\n",
        "best_score = random_search.best_score_\n",
        "\n",
        "# Evaluate on the training set\n",
        "y_train_pred = random_search.predict(X)\n",
        "train_accuracy = accuracy_score(y, y_train_pred)\n",
        "\n",
        "# Assuming you have a separate test set\n",
        "# X_test, y_test = load_your_test_data()  # Load your test data\n",
        "y_test_pred = random_search.predict(X_test)\n",
        "test_accuracy = accuracy_score(y_test, y_test_pred)\n",
        "test_precision = precision_score(y_test, y_test_pred, average='macro')\n",
        "test_recall = recall_score(y_test, y_test_pred, average='macro')\n",
        "test_f1 = f1_score(y_test, y_test_pred, average='macro')\n",
        "\n",
        "print(f\"Best Parameters: {best_params}\")\n",
        "print(f\"Best CV Score: {best_score}\")\n",
        "print(f\"Training Accuracy: {train_accuracy}\")\n",
        "print(f\"Test Accuracy: {test_accuracy}\")\n",
        "print(f\"Test Precision: {test_precision}\")\n",
        "print(f\"Test Recall: {test_recall}\")\n",
        "print(f\"Test F1 Score: {test_f1}\")\n"
      ],
      "id": "68420fe1d2db0963"
    }
  ],
  "metadata": {
    "kernelspec": {
      "display_name": "Python 3",
      "language": "python",
      "name": "python3"
    },
    "language_info": {
      "codemirror_mode": {
        "name": "ipython",
        "version": 2
      },
      "file_extension": ".py",
      "mimetype": "text/x-python",
      "name": "python",
      "nbconvert_exporter": "python",
      "pygments_lexer": "ipython2",
      "version": "2.7.6"
    },
    "colab": {
      "provenance": [],
      "include_colab_link": true
    }
  },
  "nbformat": 4,
  "nbformat_minor": 5
}