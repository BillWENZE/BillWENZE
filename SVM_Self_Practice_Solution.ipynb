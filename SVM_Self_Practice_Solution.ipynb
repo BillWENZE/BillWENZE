{
  "nbformat": 4,
  "nbformat_minor": 0,
  "metadata": {
    "colab": {
      "provenance": [],
      "include_colab_link": true
    },
    "kernelspec": {
      "name": "python3",
      "display_name": "Python 3"
    },
    "language_info": {
      "name": "python"
    }
  },
  "cells": [
    {
      "cell_type": "markdown",
      "metadata": {
        "id": "view-in-github",
        "colab_type": "text"
      },
      "source": [
        "<a href=\"https://colab.research.google.com/github/BillWENZE/Mgtf_424_Homework/blob/main/SVM_Self_Practice_Solution.ipynb\" target=\"_parent\"><img src=\"https://colab.research.google.com/assets/colab-badge.svg\" alt=\"Open In Colab\"/></a>"
      ]
    },
    {
      "cell_type": "markdown",
      "source": [
        "# Support Vector Machine for Trading"
      ],
      "metadata": {
        "id": "ZpNkNy7s-j3U"
      }
    },
    {
      "cell_type": "markdown",
      "source": [
        "**Background:**\n",
        "\n",
        "Suppose you are working as an analyst at an investment bank. Your manager asked you to implement a new trading algorithm for Apple stock.\n",
        "\n",
        "You decided to use the following indicators:\n",
        "\n",
        "* Average True Range\n",
        "* Commodity Channel Index\n",
        "* Relative Strength Index\n",
        "* Bollinger Bands\n",
        "* On Balance Volume\n",
        "* Momentum\n",
        "* MACD\n",
        "\n",
        "\n",
        "Your training set includes data up to 03/18/2022. You will apply time series cross-validation to tune the hyper-parameter. Test the model on the last 30 trading days.\n",
        "\n",
        "**Objective**\n",
        "* Use SVM Classification on financial data\n",
        "* Use Randomized Search\n",
        "* Use Time Series Cross Validation\n",
        "* Evaluate trading model"
      ],
      "metadata": {
        "id": "Qjak7DWX-ooN"
      }
    },
    {
      "cell_type": "code",
      "execution_count": null,
      "metadata": {
        "id": "eoIEXmpI-jTC",
        "colab": {
          "base_uri": "https://localhost:8080/"
        },
        "outputId": "a421eb88-8a91-4992-e160-bfa88164eded"
      },
      "outputs": [
        {
          "output_type": "stream",
          "name": "stdout",
          "text": [
            "  % Total    % Received % Xferd  Average Speed   Time    Time     Time  Current\n",
            "                                 Dload  Upload   Total   Spent    Left  Speed\n",
            "100  4239    0  4239    0     0  23949      0 --:--:-- --:--:-- --:--:-- 23949\n",
            "100  517k  100  517k    0     0   871k      0 --:--:-- --:--:-- --:--:--  871k\n",
            "  % Total    % Received % Xferd  Average Speed   Time    Time     Time  Current\n",
            "                                 Dload  Upload   Total   Spent    Left  Speed\n",
            "100  4243    0  4243    0     0  18447      0 --:--:-- --:--:-- --:--:-- 18367\n",
            "100  392k  100  392k    0     0   687k      0 --:--:-- --:--:-- --:--:--  687k\n"
          ]
        }
      ],
      "source": [
        "url = 'https://anaconda.org/conda-forge/libta-lib/0.4.0/download/linux-64/libta-lib-0.4.0-h166bdaf_1.tar.bz2'\n",
        "!curl -L $url | tar xj -C /usr/lib/x86_64-linux-gnu/ lib --strip-components=1\n",
        "url = 'https://anaconda.org/conda-forge/ta-lib/0.4.19/download/linux-64/ta-lib-0.4.19-py310hde88566_4.tar.bz2'\n",
        "!curl -L $url | tar xj -C /usr/local/lib/python3.10/dist-packages/ lib/python3.10/site-packages/talib --strip-components=3"
      ]
    },
    {
      "cell_type": "code",
      "source": [
        "! pip install yfinance"
      ],
      "metadata": {
        "id": "goKGtuLeDWlZ",
        "colab": {
          "base_uri": "https://localhost:8080/"
        },
        "outputId": "69cbb948-d741-433f-bea1-b195ebf0ca66"
      },
      "execution_count": null,
      "outputs": [
        {
          "output_type": "stream",
          "name": "stdout",
          "text": [
            "Looking in indexes: https://pypi.org/simple, https://us-python.pkg.dev/colab-wheels/public/simple/\n",
            "Requirement already satisfied: yfinance in /usr/local/lib/python3.10/dist-packages (0.2.18)\n",
            "Requirement already satisfied: requests>=2.26 in /usr/local/lib/python3.10/dist-packages (from yfinance) (2.27.1)\n",
            "Requirement already satisfied: html5lib>=1.1 in /usr/local/lib/python3.10/dist-packages (from yfinance) (1.1)\n",
            "Requirement already satisfied: numpy>=1.16.5 in /usr/local/lib/python3.10/dist-packages (from yfinance) (1.22.4)\n",
            "Requirement already satisfied: multitasking>=0.0.7 in /usr/local/lib/python3.10/dist-packages (from yfinance) (0.0.11)\n",
            "Requirement already satisfied: frozendict>=2.3.4 in /usr/local/lib/python3.10/dist-packages (from yfinance) (2.3.7)\n",
            "Requirement already satisfied: lxml>=4.9.1 in /usr/local/lib/python3.10/dist-packages (from yfinance) (4.9.2)\n",
            "Requirement already satisfied: cryptography>=3.3.2 in /usr/local/lib/python3.10/dist-packages (from yfinance) (40.0.2)\n",
            "Requirement already satisfied: pandas>=1.3.0 in /usr/local/lib/python3.10/dist-packages (from yfinance) (1.5.3)\n",
            "Requirement already satisfied: appdirs>=1.4.4 in /usr/local/lib/python3.10/dist-packages (from yfinance) (1.4.4)\n",
            "Requirement already satisfied: beautifulsoup4>=4.11.1 in /usr/local/lib/python3.10/dist-packages (from yfinance) (4.11.2)\n",
            "Requirement already satisfied: pytz>=2022.5 in /usr/local/lib/python3.10/dist-packages (from yfinance) (2022.7.1)\n",
            "Requirement already satisfied: soupsieve>1.2 in /usr/local/lib/python3.10/dist-packages (from beautifulsoup4>=4.11.1->yfinance) (2.4.1)\n",
            "Requirement already satisfied: cffi>=1.12 in /usr/local/lib/python3.10/dist-packages (from cryptography>=3.3.2->yfinance) (1.15.1)\n",
            "Requirement already satisfied: webencodings in /usr/local/lib/python3.10/dist-packages (from html5lib>=1.1->yfinance) (0.5.1)\n",
            "Requirement already satisfied: six>=1.9 in /usr/local/lib/python3.10/dist-packages (from html5lib>=1.1->yfinance) (1.16.0)\n",
            "Requirement already satisfied: python-dateutil>=2.8.1 in /usr/local/lib/python3.10/dist-packages (from pandas>=1.3.0->yfinance) (2.8.2)\n",
            "Requirement already satisfied: charset-normalizer~=2.0.0 in /usr/local/lib/python3.10/dist-packages (from requests>=2.26->yfinance) (2.0.12)\n",
            "Requirement already satisfied: urllib3<1.27,>=1.21.1 in /usr/local/lib/python3.10/dist-packages (from requests>=2.26->yfinance) (1.26.15)\n",
            "Requirement already satisfied: idna<4,>=2.5 in /usr/local/lib/python3.10/dist-packages (from requests>=2.26->yfinance) (3.4)\n",
            "Requirement already satisfied: certifi>=2017.4.17 in /usr/local/lib/python3.10/dist-packages (from requests>=2.26->yfinance) (2022.12.7)\n",
            "Requirement already satisfied: pycparser in /usr/local/lib/python3.10/dist-packages (from cffi>=1.12->cryptography>=3.3.2->yfinance) (2.21)\n"
          ]
        }
      ]
    },
    {
      "cell_type": "code",
      "source": [
        "import numpy as np\n",
        "import pandas as pd\n",
        "import warnings\n",
        "warnings.simplefilter('ignore')\n",
        "import yfinance as yf\n",
        "import talib as ta\n",
        "from talib import MA_Type\n",
        "from sklearn.model_selection import RandomizedSearchCV\n",
        "from sklearn.svm import SVC\n",
        "from sklearn.model_selection import TimeSeriesSplit as tscv"
      ],
      "metadata": {
        "id": "4ffQ5nRC_zQR"
      },
      "execution_count": null,
      "outputs": []
    },
    {
      "cell_type": "code",
      "source": [
        "msft=yf.Ticker('aapl')\n",
        "df=msft.history('max')"
      ],
      "metadata": {
        "id": "FTqjpXl1DqJv"
      },
      "execution_count": null,
      "outputs": []
    },
    {
      "cell_type": "code",
      "source": [
        "df"
      ],
      "metadata": {
        "colab": {
          "base_uri": "https://localhost:8080/",
          "height": 450
        },
        "id": "zL39SQJdxwv9",
        "outputId": "32642f58-fb8a-4d78-a6a0-7ebefaeb2727"
      },
      "execution_count": null,
      "outputs": [
        {
          "output_type": "execute_result",
          "data": {
            "text/plain": [
              "                                 Open        High         Low       Close  \\\n",
              "Date                                                                        \n",
              "1980-12-12 00:00:00-05:00    0.099722    0.100155    0.099722    0.099722   \n",
              "1980-12-15 00:00:00-05:00    0.094953    0.094953    0.094519    0.094519   \n",
              "1980-12-16 00:00:00-05:00    0.088015    0.088015    0.087582    0.087582   \n",
              "1980-12-17 00:00:00-05:00    0.089749    0.090183    0.089749    0.089749   \n",
              "1980-12-18 00:00:00-05:00    0.092351    0.092785    0.092351    0.092351   \n",
              "...                               ...         ...         ...         ...   \n",
              "2023-05-01 00:00:00-04:00  169.279999  170.449997  168.639999  169.589996   \n",
              "2023-05-02 00:00:00-04:00  170.089996  170.350006  167.539993  168.539993   \n",
              "2023-05-03 00:00:00-04:00  169.500000  170.919998  167.160004  167.449997   \n",
              "2023-05-04 00:00:00-04:00  164.889999  167.039993  164.309998  165.789993   \n",
              "2023-05-05 00:00:00-04:00  170.979996  174.300003  170.759995  173.570007   \n",
              "\n",
              "                              Volume  Dividends  Stock Splits  \n",
              "Date                                                           \n",
              "1980-12-12 00:00:00-05:00  469033600        0.0           0.0  \n",
              "1980-12-15 00:00:00-05:00  175884800        0.0           0.0  \n",
              "1980-12-16 00:00:00-05:00  105728000        0.0           0.0  \n",
              "1980-12-17 00:00:00-05:00   86441600        0.0           0.0  \n",
              "1980-12-18 00:00:00-05:00   73449600        0.0           0.0  \n",
              "...                              ...        ...           ...  \n",
              "2023-05-01 00:00:00-04:00   52472900        0.0           0.0  \n",
              "2023-05-02 00:00:00-04:00   48425700        0.0           0.0  \n",
              "2023-05-03 00:00:00-04:00   65136000        0.0           0.0  \n",
              "2023-05-04 00:00:00-04:00   81235400        0.0           0.0  \n",
              "2023-05-05 00:00:00-04:00  113316400        0.0           0.0  \n",
              "\n",
              "[10689 rows x 7 columns]"
            ],
            "text/html": [
              "\n",
              "  <div id=\"df-7cb4cf75-f0e0-4bd9-ade0-fc4d72a33221\">\n",
              "    <div class=\"colab-df-container\">\n",
              "      <div>\n",
              "<style scoped>\n",
              "    .dataframe tbody tr th:only-of-type {\n",
              "        vertical-align: middle;\n",
              "    }\n",
              "\n",
              "    .dataframe tbody tr th {\n",
              "        vertical-align: top;\n",
              "    }\n",
              "\n",
              "    .dataframe thead th {\n",
              "        text-align: right;\n",
              "    }\n",
              "</style>\n",
              "<table border=\"1\" class=\"dataframe\">\n",
              "  <thead>\n",
              "    <tr style=\"text-align: right;\">\n",
              "      <th></th>\n",
              "      <th>Open</th>\n",
              "      <th>High</th>\n",
              "      <th>Low</th>\n",
              "      <th>Close</th>\n",
              "      <th>Volume</th>\n",
              "      <th>Dividends</th>\n",
              "      <th>Stock Splits</th>\n",
              "    </tr>\n",
              "    <tr>\n",
              "      <th>Date</th>\n",
              "      <th></th>\n",
              "      <th></th>\n",
              "      <th></th>\n",
              "      <th></th>\n",
              "      <th></th>\n",
              "      <th></th>\n",
              "      <th></th>\n",
              "    </tr>\n",
              "  </thead>\n",
              "  <tbody>\n",
              "    <tr>\n",
              "      <th>1980-12-12 00:00:00-05:00</th>\n",
              "      <td>0.099722</td>\n",
              "      <td>0.100155</td>\n",
              "      <td>0.099722</td>\n",
              "      <td>0.099722</td>\n",
              "      <td>469033600</td>\n",
              "      <td>0.0</td>\n",
              "      <td>0.0</td>\n",
              "    </tr>\n",
              "    <tr>\n",
              "      <th>1980-12-15 00:00:00-05:00</th>\n",
              "      <td>0.094953</td>\n",
              "      <td>0.094953</td>\n",
              "      <td>0.094519</td>\n",
              "      <td>0.094519</td>\n",
              "      <td>175884800</td>\n",
              "      <td>0.0</td>\n",
              "      <td>0.0</td>\n",
              "    </tr>\n",
              "    <tr>\n",
              "      <th>1980-12-16 00:00:00-05:00</th>\n",
              "      <td>0.088015</td>\n",
              "      <td>0.088015</td>\n",
              "      <td>0.087582</td>\n",
              "      <td>0.087582</td>\n",
              "      <td>105728000</td>\n",
              "      <td>0.0</td>\n",
              "      <td>0.0</td>\n",
              "    </tr>\n",
              "    <tr>\n",
              "      <th>1980-12-17 00:00:00-05:00</th>\n",
              "      <td>0.089749</td>\n",
              "      <td>0.090183</td>\n",
              "      <td>0.089749</td>\n",
              "      <td>0.089749</td>\n",
              "      <td>86441600</td>\n",
              "      <td>0.0</td>\n",
              "      <td>0.0</td>\n",
              "    </tr>\n",
              "    <tr>\n",
              "      <th>1980-12-18 00:00:00-05:00</th>\n",
              "      <td>0.092351</td>\n",
              "      <td>0.092785</td>\n",
              "      <td>0.092351</td>\n",
              "      <td>0.092351</td>\n",
              "      <td>73449600</td>\n",
              "      <td>0.0</td>\n",
              "      <td>0.0</td>\n",
              "    </tr>\n",
              "    <tr>\n",
              "      <th>...</th>\n",
              "      <td>...</td>\n",
              "      <td>...</td>\n",
              "      <td>...</td>\n",
              "      <td>...</td>\n",
              "      <td>...</td>\n",
              "      <td>...</td>\n",
              "      <td>...</td>\n",
              "    </tr>\n",
              "    <tr>\n",
              "      <th>2023-05-01 00:00:00-04:00</th>\n",
              "      <td>169.279999</td>\n",
              "      <td>170.449997</td>\n",
              "      <td>168.639999</td>\n",
              "      <td>169.589996</td>\n",
              "      <td>52472900</td>\n",
              "      <td>0.0</td>\n",
              "      <td>0.0</td>\n",
              "    </tr>\n",
              "    <tr>\n",
              "      <th>2023-05-02 00:00:00-04:00</th>\n",
              "      <td>170.089996</td>\n",
              "      <td>170.350006</td>\n",
              "      <td>167.539993</td>\n",
              "      <td>168.539993</td>\n",
              "      <td>48425700</td>\n",
              "      <td>0.0</td>\n",
              "      <td>0.0</td>\n",
              "    </tr>\n",
              "    <tr>\n",
              "      <th>2023-05-03 00:00:00-04:00</th>\n",
              "      <td>169.500000</td>\n",
              "      <td>170.919998</td>\n",
              "      <td>167.160004</td>\n",
              "      <td>167.449997</td>\n",
              "      <td>65136000</td>\n",
              "      <td>0.0</td>\n",
              "      <td>0.0</td>\n",
              "    </tr>\n",
              "    <tr>\n",
              "      <th>2023-05-04 00:00:00-04:00</th>\n",
              "      <td>164.889999</td>\n",
              "      <td>167.039993</td>\n",
              "      <td>164.309998</td>\n",
              "      <td>165.789993</td>\n",
              "      <td>81235400</td>\n",
              "      <td>0.0</td>\n",
              "      <td>0.0</td>\n",
              "    </tr>\n",
              "    <tr>\n",
              "      <th>2023-05-05 00:00:00-04:00</th>\n",
              "      <td>170.979996</td>\n",
              "      <td>174.300003</td>\n",
              "      <td>170.759995</td>\n",
              "      <td>173.570007</td>\n",
              "      <td>113316400</td>\n",
              "      <td>0.0</td>\n",
              "      <td>0.0</td>\n",
              "    </tr>\n",
              "  </tbody>\n",
              "</table>\n",
              "<p>10689 rows × 7 columns</p>\n",
              "</div>\n",
              "      <button class=\"colab-df-convert\" onclick=\"convertToInteractive('df-7cb4cf75-f0e0-4bd9-ade0-fc4d72a33221')\"\n",
              "              title=\"Convert this dataframe to an interactive table.\"\n",
              "              style=\"display:none;\">\n",
              "        \n",
              "  <svg xmlns=\"http://www.w3.org/2000/svg\" height=\"24px\"viewBox=\"0 0 24 24\"\n",
              "       width=\"24px\">\n",
              "    <path d=\"M0 0h24v24H0V0z\" fill=\"none\"/>\n",
              "    <path d=\"M18.56 5.44l.94 2.06.94-2.06 2.06-.94-2.06-.94-.94-2.06-.94 2.06-2.06.94zm-11 1L8.5 8.5l.94-2.06 2.06-.94-2.06-.94L8.5 2.5l-.94 2.06-2.06.94zm10 10l.94 2.06.94-2.06 2.06-.94-2.06-.94-.94-2.06-.94 2.06-2.06.94z\"/><path d=\"M17.41 7.96l-1.37-1.37c-.4-.4-.92-.59-1.43-.59-.52 0-1.04.2-1.43.59L10.3 9.45l-7.72 7.72c-.78.78-.78 2.05 0 2.83L4 21.41c.39.39.9.59 1.41.59.51 0 1.02-.2 1.41-.59l7.78-7.78 2.81-2.81c.8-.78.8-2.07 0-2.86zM5.41 20L4 18.59l7.72-7.72 1.47 1.35L5.41 20z\"/>\n",
              "  </svg>\n",
              "      </button>\n",
              "      \n",
              "  <style>\n",
              "    .colab-df-container {\n",
              "      display:flex;\n",
              "      flex-wrap:wrap;\n",
              "      gap: 12px;\n",
              "    }\n",
              "\n",
              "    .colab-df-convert {\n",
              "      background-color: #E8F0FE;\n",
              "      border: none;\n",
              "      border-radius: 50%;\n",
              "      cursor: pointer;\n",
              "      display: none;\n",
              "      fill: #1967D2;\n",
              "      height: 32px;\n",
              "      padding: 0 0 0 0;\n",
              "      width: 32px;\n",
              "    }\n",
              "\n",
              "    .colab-df-convert:hover {\n",
              "      background-color: #E2EBFA;\n",
              "      box-shadow: 0px 1px 2px rgba(60, 64, 67, 0.3), 0px 1px 3px 1px rgba(60, 64, 67, 0.15);\n",
              "      fill: #174EA6;\n",
              "    }\n",
              "\n",
              "    [theme=dark] .colab-df-convert {\n",
              "      background-color: #3B4455;\n",
              "      fill: #D2E3FC;\n",
              "    }\n",
              "\n",
              "    [theme=dark] .colab-df-convert:hover {\n",
              "      background-color: #434B5C;\n",
              "      box-shadow: 0px 1px 3px 1px rgba(0, 0, 0, 0.15);\n",
              "      filter: drop-shadow(0px 1px 2px rgba(0, 0, 0, 0.3));\n",
              "      fill: #FFFFFF;\n",
              "    }\n",
              "  </style>\n",
              "\n",
              "      <script>\n",
              "        const buttonEl =\n",
              "          document.querySelector('#df-7cb4cf75-f0e0-4bd9-ade0-fc4d72a33221 button.colab-df-convert');\n",
              "        buttonEl.style.display =\n",
              "          google.colab.kernel.accessAllowed ? 'block' : 'none';\n",
              "\n",
              "        async function convertToInteractive(key) {\n",
              "          const element = document.querySelector('#df-7cb4cf75-f0e0-4bd9-ade0-fc4d72a33221');\n",
              "          const dataTable =\n",
              "            await google.colab.kernel.invokeFunction('convertToInteractive',\n",
              "                                                     [key], {});\n",
              "          if (!dataTable) return;\n",
              "\n",
              "          const docLinkHtml = 'Like what you see? Visit the ' +\n",
              "            '<a target=\"_blank\" href=https://colab.research.google.com/notebooks/data_table.ipynb>data table notebook</a>'\n",
              "            + ' to learn more about interactive tables.';\n",
              "          element.innerHTML = '';\n",
              "          dataTable['output_type'] = 'display_data';\n",
              "          await google.colab.output.renderOutput(dataTable, element);\n",
              "          const docLink = document.createElement('div');\n",
              "          docLink.innerHTML = docLinkHtml;\n",
              "          element.appendChild(docLink);\n",
              "        }\n",
              "      </script>\n",
              "    </div>\n",
              "  </div>\n",
              "  "
            ]
          },
          "metadata": {},
          "execution_count": 5
        }
      ]
    },
    {
      "cell_type": "code",
      "source": [
        "help(ta.CCI)"
      ],
      "metadata": {
        "colab": {
          "base_uri": "https://localhost:8080/"
        },
        "id": "ldIqSjd5wYu6",
        "outputId": "f4d48ce0-3614-4a9d-c18c-af90774b8211"
      },
      "execution_count": null,
      "outputs": [
        {
          "output_type": "stream",
          "name": "stdout",
          "text": [
            "Help on function CCI in module talib._ta_lib:\n",
            "\n",
            "CCI(...)\n",
            "    CCI(high, low, close[, timeperiod=?])\n",
            "    \n",
            "    Commodity Channel Index (Momentum Indicators)\n",
            "    \n",
            "    Inputs:\n",
            "        prices: ['high', 'low', 'close']\n",
            "    Parameters:\n",
            "        timeperiod: 14\n",
            "    Outputs:\n",
            "        real\n",
            "\n"
          ]
        }
      ]
    },
    {
      "cell_type": "code",
      "source": [
        "df['High Shifted']=df['High'].shift(1)\n",
        "df['Low Shifted'] = df['Low'].shift(1)\n",
        "df['Close Shifted'] = df['Close'].shift(1)\n",
        "df['Upper BBand'], df['Middle BBand'],df['Lower BBand']= ta.BBANDS(df['Close Shifted'],timeperiod=20)\n",
        "df['RSI'] = ta.RSI(np.array(df['Close Shifted']), timeperiod=14)\n",
        "df['Macd'], df['Macd Signal'],df['Macd Hist'] = ta.MACD(df['Close Shifted'], fastperiod=12, slowperiod=26, signalperiod=9)\n",
        "df['Momentum'] = ta.MOM(df['Close Shifted'],timeperiod=12)\n",
        "df['OBV'] = ta.OBV(df['Close Shifted'],df['Volume'].shift(1))\n",
        "df['ATR'] = ta.ATR(df['High'].shift(1),df['Low'].shift(1),df['Close'].shift(1))\n",
        "df['Returns'] = np.log(df['Open']/df['Open'].shift(1))\n",
        "df['CCI']=ta.CCI(df['High Shifted'],df['Low Shifted'],df['Close Shifted'])\n",
        "df['Signal'] =np.where(df.Returns >= 0, 1, 0)\n",
        "\n",
        "df.dropna(inplace=True)\n",
        "\n",
        "X=df.drop(['Signal','Returns','Open','Close','Volume','High','Low','Dividends','Stock Splits'],1)\n",
        "Y=df['Signal']\n"
      ],
      "metadata": {
        "id": "aT--qjbiGzOG"
      },
      "execution_count": null,
      "outputs": []
    },
    {
      "cell_type": "code",
      "source": [
        "from sklearn import preprocessing\n",
        "minmax = preprocessing.MinMaxScaler()"
      ],
      "metadata": {
        "id": "QDyCIfRwUIXH"
      },
      "execution_count": null,
      "outputs": []
    },
    {
      "cell_type": "code",
      "source": [
        "X_train =minmax.fit_transform(X.iloc[:-30,:])\n",
        "X_test = pd.DataFrame(minmax.transform(X)).iloc[-30:,:]\n",
        "y_train = Y.iloc[:-30]\n",
        "y_test = Y.iloc[-30:]"
      ],
      "metadata": {
        "id": "A-yFeon-QHJQ"
      },
      "execution_count": null,
      "outputs": []
    },
    {
      "cell_type": "code",
      "source": [
        "# Takes approx 6 mins\n",
        "# Call the classifier:\n",
        "clf = SVC(kernel='rbf')\n",
        "# Parameter Grid\n",
        "param_grid={'C':[0.001,0.01,0.1,1,5,10]}\n",
        "# Randomized Search over Space and Fit:\n",
        "clf_search = RandomizedSearchCV(clf, param_distributions=param_grid, cv = tscv(5,test_size=1, gap=0))\n",
        "clf_search.fit(X_train,y_train)\n",
        "# Predict\n",
        "y_pred=clf_search.predict(X_test)"
      ],
      "metadata": {
        "id": "O9TOef-jWLJ0"
      },
      "execution_count": null,
      "outputs": []
    },
    {
      "cell_type": "code",
      "source": [
        "from sklearn import metrics\n",
        "Accuracy = metrics.accuracy_score(y_test, y_pred)\n",
        "Precision = metrics.precision_score(y_test, y_pred)\n",
        "Recall = metrics.recall_score(y_test, y_pred)"
      ],
      "metadata": {
        "id": "zTgkfmHmeIvX"
      },
      "execution_count": null,
      "outputs": []
    },
    {
      "cell_type": "code",
      "source": [
        "print(Accuracy)\n",
        "print(Precision)\n",
        "print(Recall)"
      ],
      "metadata": {
        "colab": {
          "base_uri": "https://localhost:8080/"
        },
        "id": "T_F_0fz2fqhM",
        "outputId": "1556ba3e-70c2-4aad-879f-dd87c09ea298"
      },
      "execution_count": null,
      "outputs": [
        {
          "output_type": "stream",
          "name": "stdout",
          "text": [
            "0.7666666666666667\n",
            "0.875\n",
            "0.7368421052631579\n"
          ]
        }
      ]
    },
    {
      "cell_type": "code",
      "source": [
        "df['SVM Signal'] = 0\n",
        "df['SVM Returns'] = 0\n",
        "df['Total Strat Returns'] = 0\n",
        "df['Market Returns'] = 0"
      ],
      "metadata": {
        "id": "1OI5DlPnia98"
      },
      "execution_count": null,
      "outputs": []
    },
    {
      "cell_type": "code",
      "source": [
        "Signal_Column = df.columns.get_loc('SVM Signal')\n",
        "Strat_Column = df.columns.get_loc('SVM Returns')\n",
        "Return_Column = df.columns.get_loc('Total Strat Returns')\n",
        "Market_Column = df.columns.get_loc('Market Returns')\n",
        "\n",
        "df.iloc[-30:,Signal_Column] = list(map(int,y_pred))\n",
        "df['SVM Returns'] = df['SVM Signal'] * df['Returns'].shift(-1)\n",
        "\n",
        "df.iloc[-30:,Return_Column] = np.nancumsum(df['SVM Returns'][-30:])\n",
        "df.iloc[-30:,Market_Column] = np.nancumsum(df['Returns'][-30:])\n",
        "\n",
        "df['Sharpe_Ratio'] = (np.mean(df['Total Strat Returns'][-30:]) - np.mean(df['Market Returns'][-30:]))/np.nanstd(df['Total Strat Returns'][-30:])"
      ],
      "metadata": {
        "id": "sCQdcHMijnpc"
      },
      "execution_count": null,
      "outputs": []
    },
    {
      "cell_type": "code",
      "source": [
        "df['Total Strat Returns'].sum()"
      ],
      "metadata": {
        "colab": {
          "base_uri": "https://localhost:8080/"
        },
        "id": "xJHSAEMgplWT",
        "outputId": "5403b228-f4e9-44b1-8387-731b26ace5f7"
      },
      "execution_count": null,
      "outputs": [
        {
          "output_type": "execute_result",
          "data": {
            "text/plain": [
              "0.5026795433650184"
            ]
          },
          "metadata": {},
          "execution_count": 28
        }
      ]
    },
    {
      "cell_type": "code",
      "source": [
        "print(Accuracy)\n",
        "print(Precision)\n",
        "print(Recall)"
      ],
      "metadata": {
        "colab": {
          "base_uri": "https://localhost:8080/"
        },
        "id": "FsNreVJep5Fg",
        "outputId": "c5c1b80e-7b8d-4136-8290-a398fa2c234f"
      },
      "execution_count": null,
      "outputs": [
        {
          "output_type": "stream",
          "name": "stdout",
          "text": [
            "0.7666666666666667\n",
            "0.875\n",
            "0.7368421052631579\n"
          ]
        }
      ]
    },
    {
      "cell_type": "code",
      "source": [
        "import matplotlib.pyplot as plt\n",
        "from matplotlib.dates import DateFormatter\n",
        "import matplotlib.ticker as ticker\n",
        "\n",
        "fig, ax = plt.subplots(figsize=(16, 8\n",
        "                                ))\n",
        "\n",
        "ax.plot(df[-30:].index.values, df['Total Strat Returns'][-30:].values, color='r', label=\"Strategy Returns\")\n",
        "ax.plot(df[-30:].index.values, df['Market Returns'][-30:].values, color='k', label=\"Buy and Hold\")\n",
        "\n",
        "ax.set(xlabel= \"Date\",ylabel=\"Returns\")\n",
        "plt.title('MSFT',fontsize=15)\n",
        "ax.xaxis.set_major_locator(ticker.AutoLocator())\n",
        "\n",
        "plt.figtext(.95,0.78, s=\"Sharpe Ratio \"+'-1.97')\n",
        "plt.figtext(.95,0.75, s=\"Sum Total Strat Returns \"+'0.02')\n",
        "plt.figtext(.95,0.72,s=\"Model Accuracy \" +'0.77')\n",
        "plt.figtext(.95,0.69,s=\"Model Precision \" +'0.88')\n",
        "plt.figtext(.95,0.66,s=\"Model Recall \" +'0.74')\n",
        "\n",
        "plt.legend(loc='best')\n",
        "plt.show()"
      ],
      "metadata": {
        "colab": {
          "base_uri": "https://localhost:8080/",
          "height": 596
        },
        "id": "ZViqWNdoAuu7",
        "outputId": "c6595504-ca81-4d36-bb7a-f4f3ef9d8271"
      },
      "execution_count": null,
      "outputs": [
        {
          "output_type": "display_data",
          "data": {
            "text/plain": [
              "<Figure size 1600x800 with 1 Axes>"
            ],
            "image/png": "[encoded data removed]"
          },
          "metadata": {}
        }
      ]
    },
    {
      "cell_type": "code",
      "source": [],
      "metadata": {
        "id": "6rmVxeDFrzYY"
      },
      "execution_count": null,
      "outputs": []
    }
  ]
}