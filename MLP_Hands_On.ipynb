{
  "cells": [
    {
      "cell_type": "markdown",
      "metadata": {
        "id": "view-in-github",
        "colab_type": "text"
      },
      "source": [
        "<a href=\"https://colab.research.google.com/github/BillWENZE/BillWENZE/blob/main/MLP_Hands_On.ipynb\" target=\"_parent\"><img src=\"https://colab.research.google.com/assets/colab-badge.svg\" alt=\"Open In Colab\"/></a>"
      ]
    },
    {
      "cell_type": "markdown",
      "metadata": {
        "id": "pLTgmm2fjIbp"
      },
      "source": [
        "# Multi-Layer Perceptron - Excess Return Forecasts\n",
        "\n",
        "**Objectives**\n",
        "\n",
        "* Train Feed-Forward Networks\n",
        "  * Early Stopping\n",
        "  * Activation Functions\n",
        "  * Loss Functions\n",
        "  * Optimizers\n",
        "  * Shallow vs. Deep\n",
        "* Forecast Excess Returns"
      ]
    },
    {
      "cell_type": "markdown",
      "metadata": {
        "id": "JP__utrhjH4g"
      },
      "source": [
        "## Data Import - Goyal Welch Excess Return Predictors"
      ]
    },
    {
      "cell_type": "code",
      "execution_count": 1,
      "metadata": {
        "colab": {
          "base_uri": "https://localhost:8080/"
        },
        "id": "ZqcvNtDowuiO",
        "outputId": "b503f033-fa93-4eb1-aab3-6fd70b5fb52e"
      },
      "outputs": [
        {
          "output_type": "stream",
          "name": "stdout",
          "text": [
            "/usr/local/lib/python3.10/dist-packages/gdown/__main__.py:132: FutureWarning: Option `--id` was deprecated in version 4.3.1 and will be removed in 5.0. You don't need to pass it anymore to use a file ID.\n",
            "  warnings.warn(\n",
            "Downloading...\n",
            "From: https://drive.google.com/uc?id=1OMWYlG7JXHN-PeBvQ1UBmfmlIuZP80fO\n",
            "To: /content/merged_data.csv\n",
            "100% 981k/981k [00:00<00:00, 98.2MB/s]\n"
          ]
        }
      ],
      "source": [
        "!gdown --id 1OMWYlG7JXHN-PeBvQ1UBmfmlIuZP80fO"
      ]
    },
    {
      "cell_type": "code",
      "execution_count": 2,
      "metadata": {
        "id": "eYp15f4IgElz",
        "outputId": "cd2b90bb-da4e-435d-addf-8714df151196",
        "colab": {
          "base_uri": "https://localhost:8080/"
        }
      },
      "outputs": [
        {
          "output_type": "stream",
          "name": "stdout",
          "text": [
            "Collecting keras-tuner\n",
            "  Downloading keras_tuner-1.4.7-py3-none-any.whl (129 kB)\n",
            "\u001b[2K     \u001b[90m━━━━━━━━━━━━━━━━━━━━━━━━━━━━━━━━━━━━━━━━\u001b[0m \u001b[32m129.1/129.1 kB\u001b[0m \u001b[31m1.0 MB/s\u001b[0m eta \u001b[36m0:00:00\u001b[0m\n",
            "\u001b[?25hRequirement already satisfied: keras in /usr/local/lib/python3.10/dist-packages (from keras-tuner) (2.15.0)\n",
            "Requirement already satisfied: packaging in /usr/local/lib/python3.10/dist-packages (from keras-tuner) (24.0)\n",
            "Requirement already satisfied: requests in /usr/local/lib/python3.10/dist-packages (from keras-tuner) (2.31.0)\n",
            "Collecting kt-legacy (from keras-tuner)\n",
            "  Downloading kt_legacy-1.0.5-py3-none-any.whl (9.6 kB)\n",
            "Requirement already satisfied: charset-normalizer<4,>=2 in /usr/local/lib/python3.10/dist-packages (from requests->keras-tuner) (3.3.2)\n",
            "Requirement already satisfied: idna<4,>=2.5 in /usr/local/lib/python3.10/dist-packages (from requests->keras-tuner) (3.7)\n",
            "Requirement already satisfied: urllib3<3,>=1.21.1 in /usr/local/lib/python3.10/dist-packages (from requests->keras-tuner) (2.0.7)\n",
            "Requirement already satisfied: certifi>=2017.4.17 in /usr/local/lib/python3.10/dist-packages (from requests->keras-tuner) (2024.2.2)\n",
            "Installing collected packages: kt-legacy, keras-tuner\n",
            "Successfully installed keras-tuner-1.4.7 kt-legacy-1.0.5\n"
          ]
        }
      ],
      "source": [
        "! pip install keras-tuner"
      ]
    },
    {
      "cell_type": "markdown",
      "metadata": {
        "id": "pffIaIyYXAuK"
      },
      "source": [
        "## Library Imports"
      ]
    },
    {
      "cell_type": "code",
      "execution_count": 3,
      "metadata": {
        "id": "rz8YSTDgW7rG"
      },
      "outputs": [],
      "source": [
        "import pandas as pd\n",
        "import numpy as np\n",
        "from sklearn.preprocessing import RobustScaler\n",
        "from keras.models import Sequential\n",
        "from keras.layers import Dense, Normalization\n",
        "import tensorflow as tf\n",
        "from tensorflow.keras.callbacks import EarlyStopping\n",
        "import matplotlib.pyplot as plt\n",
        "import time"
      ]
    },
    {
      "cell_type": "code",
      "execution_count": 4,
      "metadata": {
        "id": "GmvSymg-w1yi"
      },
      "outputs": [],
      "source": [
        "df = pd.read_csv('merged_data.csv')"
      ]
    },
    {
      "cell_type": "code",
      "execution_count": 5,
      "metadata": {
        "id": "LWJPKnOAxI4y"
      },
      "outputs": [],
      "source": [
        "df.set_index('Date',inplace=True)"
      ]
    },
    {
      "cell_type": "markdown",
      "metadata": {
        "id": "WRQot0XsXZd0"
      },
      "source": [
        "## Data Transformations"
      ]
    },
    {
      "cell_type": "code",
      "execution_count": 6,
      "metadata": {
        "id": "grvVKc__xyWC"
      },
      "outputs": [],
      "source": [
        "Y = df.loc['1959-04-01':,'excess_returns'].reset_index(drop=True)\n",
        "X = df.loc[:'2020-11-01', df.columns!='excess_returns'].reset_index(drop=True)"
      ]
    },
    {
      "cell_type": "code",
      "execution_count": 7,
      "metadata": {
        "id": "E1kgAKueZ2Bl"
      },
      "outputs": [],
      "source": [
        "df1=pd.concat([Y,X],axis=1)\n",
        "df1.set_index(df.reset_index().iloc[1:,0],inplace=True)"
      ]
    },
    {
      "cell_type": "code",
      "execution_count": 8,
      "metadata": {
        "id": "0tjxwnA3aIRl"
      },
      "outputs": [],
      "source": [
        "Y = df1['excess_returns']\n",
        "X = df1.drop('excess_returns',axis=1)"
      ]
    },
    {
      "cell_type": "markdown",
      "metadata": {
        "id": "JHvnTo2lc0lP"
      },
      "source": [
        "Generating the splits- We are going to use Robust Scaler and use a very specific strategy in scaling our variables."
      ]
    },
    {
      "cell_type": "code",
      "execution_count": 9,
      "metadata": {
        "colab": {
          "base_uri": "https://localhost:8080/"
        },
        "id": "rrT76zi-yLkL",
        "outputId": "945489a3-d2f0-4dab-9baf-bb0fa4feebfb"
      },
      "outputs": [
        {
          "output_type": "execute_result",
          "data": {
            "text/plain": [
              "Date\n",
              "1959-04-01    0.038054\n",
              "1959-05-01    0.021431\n",
              "1959-06-01   -0.003225\n",
              "1959-07-01    0.032004\n",
              "1959-08-01   -0.012976\n",
              "                ...   \n",
              "2020-08-01    0.071968\n",
              "2020-09-01   -0.038251\n",
              "2020-10-01   -0.026509\n",
              "2020-11-01    0.109303\n",
              "2020-12-01    0.041473\n",
              "Name: excess_returns, Length: 741, dtype: float64"
            ]
          },
          "metadata": {},
          "execution_count": 9
        }
      ],
      "source": [
        "Y"
      ]
    },
    {
      "cell_type": "code",
      "execution_count": 10,
      "metadata": {
        "id": "UJiR0Q4Sdtas"
      },
      "outputs": [],
      "source": [
        "scaler=RobustScaler(quantile_range=(10,90))"
      ]
    },
    {
      "cell_type": "code",
      "execution_count": 11,
      "metadata": {
        "id": "TnPqZZsFciDd"
      },
      "outputs": [],
      "source": [
        "X_train =scaler.fit_transform(X.loc[:'2018'])\n",
        "X_valid = scaler.transform(X.loc['2019-01-01':'2019-12-01'])"
      ]
    },
    {
      "cell_type": "code",
      "execution_count": 12,
      "metadata": {
        "id": "vNPl4H9LeZr1"
      },
      "outputs": [],
      "source": [
        "X_test_0 = scaler.fit_transform(X.loc[:'2019'])\n",
        "X_test = scaler.transform(X.loc['2020-01-01':'2020-12-01'])"
      ]
    },
    {
      "cell_type": "code",
      "execution_count": 14,
      "metadata": {
        "id": "lEH4s6Zxi_CO",
        "outputId": "5d6f1374-4b16-4dca-cf0c-2c1794197042",
        "colab": {
          "base_uri": "https://localhost:8080/",
          "height": 180
        }
      },
      "outputs": [
        {
          "output_type": "error",
          "ename": "NameError",
          "evalue": "name 'y' is not defined",
          "traceback": [
            "\u001b[0;31m---------------------------------------------------------------------------\u001b[0m",
            "\u001b[0;31mNameError\u001b[0m                                 Traceback (most recent call last)",
            "\u001b[0;32m<ipython-input-14-cc2f39d81976>\u001b[0m in \u001b[0;36m<cell line: 1>\u001b[0;34m()\u001b[0m\n\u001b[0;32m----> 1\u001b[0;31m \u001b[0my_train\u001b[0m\u001b[0;34m=\u001b[0m\u001b[0my\u001b[0m\u001b[0;34m.\u001b[0m\u001b[0mloc\u001b[0m\u001b[0;34m[\u001b[0m\u001b[0;34m:\u001b[0m\u001b[0;34m'2018'\u001b[0m\u001b[0;34m]\u001b[0m\u001b[0;34m\u001b[0m\u001b[0;34m\u001b[0m\u001b[0m\n\u001b[0m\u001b[1;32m      2\u001b[0m \u001b[0my_valid\u001b[0m\u001b[0;34m=\u001b[0m\u001b[0my\u001b[0m\u001b[0;34m.\u001b[0m\u001b[0mloc\u001b[0m\u001b[0;34m[\u001b[0m\u001b[0;34m'2019-01-01'\u001b[0m\u001b[0;34m:\u001b[0m\u001b[0;34m'2019-12-01'\u001b[0m\u001b[0;34m]\u001b[0m\u001b[0;34m\u001b[0m\u001b[0;34m\u001b[0m\u001b[0m\n\u001b[1;32m      3\u001b[0m \u001b[0my_test\u001b[0m\u001b[0;34m=\u001b[0m\u001b[0my\u001b[0m\u001b[0;34m.\u001b[0m\u001b[0mloc\u001b[0m\u001b[0;34m[\u001b[0m\u001b[0;34m'2020-01-01'\u001b[0m\u001b[0;34m:\u001b[0m\u001b[0;34m'2020-12-01'\u001b[0m\u001b[0;34m]\u001b[0m\u001b[0;34m\u001b[0m\u001b[0;34m\u001b[0m\u001b[0m\n",
            "\u001b[0;31mNameError\u001b[0m: name 'y' is not defined"
          ]
        }
      ],
      "source": [
        "y_train=y.loc[:'2018']\n",
        "y_valid=y.loc['2019-01-01':'2019-12-01']\n",
        "y_test=y.loc['2020-01-01':'2020-12-01']"
      ]
    },
    {
      "cell_type": "code",
      "execution_count": 15,
      "metadata": {
        "colab": {
          "base_uri": "https://localhost:8080/",
          "height": 649
        },
        "id": "-tsa-mUfw0NH",
        "outputId": "4853fe9e-171f-4824-e84a-bc05c8d50301"
      },
      "outputs": [
        {
          "output_type": "execute_result",
          "data": {
            "text/plain": [
              "            CPIAUCSL       RPI   W875RX1  DPCERA3M086SBEA  CMRMTSPLx  \\\n",
              "Date                                                                   \n",
              "1959-04-01 -0.000690  0.006430  0.007359         0.009410  -0.003423   \n",
              "1959-05-01  0.001380  0.006494  0.007049        -0.003639   0.019922   \n",
              "1959-06-01  0.001723  0.005763  0.006616         0.012005   0.006797   \n",
              "1959-07-01  0.000339  0.003102  0.002974         0.003708  -0.000051   \n",
              "1959-08-01 -0.001034 -0.000589 -0.000764        -0.003427   0.012110   \n",
              "...              ...       ...       ...              ...        ...   \n",
              "2020-08-01 -0.000097  0.005988  0.009918         0.014326   0.026017   \n",
              "2020-09-01 -0.001624 -0.032790  0.010429         0.006836   0.002130   \n",
              "2020-10-01 -0.001046  0.005666  0.009884         0.013125   0.006045   \n",
              "2020-11-01 -0.001253 -0.002717  0.013773         0.004091   0.009751   \n",
              "2020-12-01  0.000581 -0.010059 -0.002639        -0.005558  -0.001850   \n",
              "\n",
              "             RETAILx    INDPRO   IPFPNSS   IPFINAL   IPCONGD  ...  \\\n",
              "Date                                                          ...   \n",
              "1959-04-01  0.008321  0.014303  0.006036  0.004899  0.000000  ...   \n",
              "1959-05-01  0.000616  0.021077  0.014338  0.014542  0.015653  ...   \n",
              "1959-06-01  0.007803  0.014950  0.008269  0.009583  0.004768  ...   \n",
              "1959-07-01  0.009064  0.001144  0.007034  0.007126 -0.004768  ...   \n",
              "1959-08-01 -0.000330 -0.024238  0.001167  0.008247  0.013056  ...   \n",
              "...              ...       ...       ...       ...       ...  ...   \n",
              "2020-08-01  0.013834  0.040064  0.042545  0.047389  0.041804  ...   \n",
              "2020-09-01  0.008330  0.010522  0.013035  0.012572  0.007465  ...   \n",
              "2020-10-01  0.020661 -0.003034 -0.005733 -0.010124 -0.014893  ...   \n",
              "2020-11-01 -0.000512  0.010856  0.010733  0.006639  0.002768  ...   \n",
              "2020-12-01 -0.014095  0.005320  0.003676  0.004535  0.001491  ...   \n",
              "\n",
              "            DTCOLNVHFNM  DTCTHFNM    INVEST        D12        E12       b/m  \\\n",
              "Date                                                                          \n",
              "1959-04-01     0.004929  0.004138 -0.014792   1.770000   3.110000  0.516860   \n",
              "1959-05-01     0.012134  0.006734  0.024929   1.776670   3.206670  0.498597   \n",
              "1959-06-01     0.002828  0.002020 -0.015342   1.783330   3.303330  0.483077   \n",
              "1959-07-01     0.009726  0.009007 -0.012252   1.790000   3.400000  0.483219   \n",
              "1959-08-01    -0.004631 -0.001000  0.029341   1.796670   3.410000  0.460823   \n",
              "...                 ...       ...       ...        ...        ...       ...   \n",
              "2020-08-01    -0.006217  0.000561 -0.003085  59.406020  98.893333  0.253848   \n",
              "2020-09-01    -0.005675 -0.002656 -0.016114  59.128628  98.556667  0.235975   \n",
              "2020-10-01    -0.001469  0.002209 -0.001093  58.851237  98.220000  0.241482   \n",
              "2020-11-01    -0.008596 -0.005963 -0.000156  58.660440  96.856667  0.253146   \n",
              "2020-12-01     0.005337  0.004147  0.008628  58.469643  95.493333  0.226352   \n",
              "\n",
              "               lty      ntis     ltr      svar  \n",
              "Date                                            \n",
              "1959-04-01  0.0403  0.024984  0.0017  0.000492  \n",
              "1959-05-01  0.0414  0.024361 -0.0117  0.000493  \n",
              "1959-06-01  0.0417  0.025887 -0.0005  0.000428  \n",
              "1959-07-01  0.0419  0.026882  0.0010  0.000915  \n",
              "1959-08-01  0.0417  0.027141  0.0060  0.000488  \n",
              "...            ...       ...     ...       ...  \n",
              "2020-08-01  0.0062 -0.011998  0.0287  0.001608  \n",
              "2020-09-01  0.0065 -0.008504 -0.0349  0.000743  \n",
              "2020-10-01  0.0068 -0.005698  0.0080  0.004907  \n",
              "2020-11-01  0.0079 -0.001895 -0.0238  0.003661  \n",
              "2020-12-01  0.0087 -0.005262  0.0093  0.002492  \n",
              "\n",
              "[741 rows x 119 columns]"
            ],
            "text/html": [
              "\n",
              "  <div id=\"df-218b9d71-4cf2-419a-8d4e-de3d232bd563\" class=\"colab-df-container\">\n",
              "    <div>\n",
              "<style scoped>\n",
              "    .dataframe tbody tr th:only-of-type {\n",
              "        vertical-align: middle;\n",
              "    }\n",
              "\n",
              "    .dataframe tbody tr th {\n",
              "        vertical-align: top;\n",
              "    }\n",
              "\n",
              "    .dataframe thead th {\n",
              "        text-align: right;\n",
              "    }\n",
              "</style>\n",
              "<table border=\"1\" class=\"dataframe\">\n",
              "  <thead>\n",
              "    <tr style=\"text-align: right;\">\n",
              "      <th></th>\n",
              "      <th>CPIAUCSL</th>\n",
              "      <th>RPI</th>\n",
              "      <th>W875RX1</th>\n",
              "      <th>DPCERA3M086SBEA</th>\n",
              "      <th>CMRMTSPLx</th>\n",
              "      <th>RETAILx</th>\n",
              "      <th>INDPRO</th>\n",
              "      <th>IPFPNSS</th>\n",
              "      <th>IPFINAL</th>\n",
              "      <th>IPCONGD</th>\n",
              "      <th>...</th>\n",
              "      <th>DTCOLNVHFNM</th>\n",
              "      <th>DTCTHFNM</th>\n",
              "      <th>INVEST</th>\n",
              "      <th>D12</th>\n",
              "      <th>E12</th>\n",
              "      <th>b/m</th>\n",
              "      <th>lty</th>\n",
              "      <th>ntis</th>\n",
              "      <th>ltr</th>\n",
              "      <th>svar</th>\n",
              "    </tr>\n",
              "    <tr>\n",
              "      <th>Date</th>\n",
              "      <th></th>\n",
              "      <th></th>\n",
              "      <th></th>\n",
              "      <th></th>\n",
              "      <th></th>\n",
              "      <th></th>\n",
              "      <th></th>\n",
              "      <th></th>\n",
              "      <th></th>\n",
              "      <th></th>\n",
              "      <th></th>\n",
              "      <th></th>\n",
              "      <th></th>\n",
              "      <th></th>\n",
              "      <th></th>\n",
              "      <th></th>\n",
              "      <th></th>\n",
              "      <th></th>\n",
              "      <th></th>\n",
              "      <th></th>\n",
              "      <th></th>\n",
              "    </tr>\n",
              "  </thead>\n",
              "  <tbody>\n",
              "    <tr>\n",
              "      <th>1959-04-01</th>\n",
              "      <td>-0.000690</td>\n",
              "      <td>0.006430</td>\n",
              "      <td>0.007359</td>\n",
              "      <td>0.009410</td>\n",
              "      <td>-0.003423</td>\n",
              "      <td>0.008321</td>\n",
              "      <td>0.014303</td>\n",
              "      <td>0.006036</td>\n",
              "      <td>0.004899</td>\n",
              "      <td>0.000000</td>\n",
              "      <td>...</td>\n",
              "      <td>0.004929</td>\n",
              "      <td>0.004138</td>\n",
              "      <td>-0.014792</td>\n",
              "      <td>1.770000</td>\n",
              "      <td>3.110000</td>\n",
              "      <td>0.516860</td>\n",
              "      <td>0.0403</td>\n",
              "      <td>0.024984</td>\n",
              "      <td>0.0017</td>\n",
              "      <td>0.000492</td>\n",
              "    </tr>\n",
              "    <tr>\n",
              "      <th>1959-05-01</th>\n",
              "      <td>0.001380</td>\n",
              "      <td>0.006494</td>\n",
              "      <td>0.007049</td>\n",
              "      <td>-0.003639</td>\n",
              "      <td>0.019922</td>\n",
              "      <td>0.000616</td>\n",
              "      <td>0.021077</td>\n",
              "      <td>0.014338</td>\n",
              "      <td>0.014542</td>\n",
              "      <td>0.015653</td>\n",
              "      <td>...</td>\n",
              "      <td>0.012134</td>\n",
              "      <td>0.006734</td>\n",
              "      <td>0.024929</td>\n",
              "      <td>1.776670</td>\n",
              "      <td>3.206670</td>\n",
              "      <td>0.498597</td>\n",
              "      <td>0.0414</td>\n",
              "      <td>0.024361</td>\n",
              "      <td>-0.0117</td>\n",
              "      <td>0.000493</td>\n",
              "    </tr>\n",
              "    <tr>\n",
              "      <th>1959-06-01</th>\n",
              "      <td>0.001723</td>\n",
              "      <td>0.005763</td>\n",
              "      <td>0.006616</td>\n",
              "      <td>0.012005</td>\n",
              "      <td>0.006797</td>\n",
              "      <td>0.007803</td>\n",
              "      <td>0.014950</td>\n",
              "      <td>0.008269</td>\n",
              "      <td>0.009583</td>\n",
              "      <td>0.004768</td>\n",
              "      <td>...</td>\n",
              "      <td>0.002828</td>\n",
              "      <td>0.002020</td>\n",
              "      <td>-0.015342</td>\n",
              "      <td>1.783330</td>\n",
              "      <td>3.303330</td>\n",
              "      <td>0.483077</td>\n",
              "      <td>0.0417</td>\n",
              "      <td>0.025887</td>\n",
              "      <td>-0.0005</td>\n",
              "      <td>0.000428</td>\n",
              "    </tr>\n",
              "    <tr>\n",
              "      <th>1959-07-01</th>\n",
              "      <td>0.000339</td>\n",
              "      <td>0.003102</td>\n",
              "      <td>0.002974</td>\n",
              "      <td>0.003708</td>\n",
              "      <td>-0.000051</td>\n",
              "      <td>0.009064</td>\n",
              "      <td>0.001144</td>\n",
              "      <td>0.007034</td>\n",
              "      <td>0.007126</td>\n",
              "      <td>-0.004768</td>\n",
              "      <td>...</td>\n",
              "      <td>0.009726</td>\n",
              "      <td>0.009007</td>\n",
              "      <td>-0.012252</td>\n",
              "      <td>1.790000</td>\n",
              "      <td>3.400000</td>\n",
              "      <td>0.483219</td>\n",
              "      <td>0.0419</td>\n",
              "      <td>0.026882</td>\n",
              "      <td>0.0010</td>\n",
              "      <td>0.000915</td>\n",
              "    </tr>\n",
              "    <tr>\n",
              "      <th>1959-08-01</th>\n",
              "      <td>-0.001034</td>\n",
              "      <td>-0.000589</td>\n",
              "      <td>-0.000764</td>\n",
              "      <td>-0.003427</td>\n",
              "      <td>0.012110</td>\n",
              "      <td>-0.000330</td>\n",
              "      <td>-0.024238</td>\n",
              "      <td>0.001167</td>\n",
              "      <td>0.008247</td>\n",
              "      <td>0.013056</td>\n",
              "      <td>...</td>\n",
              "      <td>-0.004631</td>\n",
              "      <td>-0.001000</td>\n",
              "      <td>0.029341</td>\n",
              "      <td>1.796670</td>\n",
              "      <td>3.410000</td>\n",
              "      <td>0.460823</td>\n",
              "      <td>0.0417</td>\n",
              "      <td>0.027141</td>\n",
              "      <td>0.0060</td>\n",
              "      <td>0.000488</td>\n",
              "    </tr>\n",
              "    <tr>\n",
              "      <th>...</th>\n",
              "      <td>...</td>\n",
              "      <td>...</td>\n",
              "      <td>...</td>\n",
              "      <td>...</td>\n",
              "      <td>...</td>\n",
              "      <td>...</td>\n",
              "      <td>...</td>\n",
              "      <td>...</td>\n",
              "      <td>...</td>\n",
              "      <td>...</td>\n",
              "      <td>...</td>\n",
              "      <td>...</td>\n",
              "      <td>...</td>\n",
              "      <td>...</td>\n",
              "      <td>...</td>\n",
              "      <td>...</td>\n",
              "      <td>...</td>\n",
              "      <td>...</td>\n",
              "      <td>...</td>\n",
              "      <td>...</td>\n",
              "      <td>...</td>\n",
              "    </tr>\n",
              "    <tr>\n",
              "      <th>2020-08-01</th>\n",
              "      <td>-0.000097</td>\n",
              "      <td>0.005988</td>\n",
              "      <td>0.009918</td>\n",
              "      <td>0.014326</td>\n",
              "      <td>0.026017</td>\n",
              "      <td>0.013834</td>\n",
              "      <td>0.040064</td>\n",
              "      <td>0.042545</td>\n",
              "      <td>0.047389</td>\n",
              "      <td>0.041804</td>\n",
              "      <td>...</td>\n",
              "      <td>-0.006217</td>\n",
              "      <td>0.000561</td>\n",
              "      <td>-0.003085</td>\n",
              "      <td>59.406020</td>\n",
              "      <td>98.893333</td>\n",
              "      <td>0.253848</td>\n",
              "      <td>0.0062</td>\n",
              "      <td>-0.011998</td>\n",
              "      <td>0.0287</td>\n",
              "      <td>0.001608</td>\n",
              "    </tr>\n",
              "    <tr>\n",
              "      <th>2020-09-01</th>\n",
              "      <td>-0.001624</td>\n",
              "      <td>-0.032790</td>\n",
              "      <td>0.010429</td>\n",
              "      <td>0.006836</td>\n",
              "      <td>0.002130</td>\n",
              "      <td>0.008330</td>\n",
              "      <td>0.010522</td>\n",
              "      <td>0.013035</td>\n",
              "      <td>0.012572</td>\n",
              "      <td>0.007465</td>\n",
              "      <td>...</td>\n",
              "      <td>-0.005675</td>\n",
              "      <td>-0.002656</td>\n",
              "      <td>-0.016114</td>\n",
              "      <td>59.128628</td>\n",
              "      <td>98.556667</td>\n",
              "      <td>0.235975</td>\n",
              "      <td>0.0065</td>\n",
              "      <td>-0.008504</td>\n",
              "      <td>-0.0349</td>\n",
              "      <td>0.000743</td>\n",
              "    </tr>\n",
              "    <tr>\n",
              "      <th>2020-10-01</th>\n",
              "      <td>-0.001046</td>\n",
              "      <td>0.005666</td>\n",
              "      <td>0.009884</td>\n",
              "      <td>0.013125</td>\n",
              "      <td>0.006045</td>\n",
              "      <td>0.020661</td>\n",
              "      <td>-0.003034</td>\n",
              "      <td>-0.005733</td>\n",
              "      <td>-0.010124</td>\n",
              "      <td>-0.014893</td>\n",
              "      <td>...</td>\n",
              "      <td>-0.001469</td>\n",
              "      <td>0.002209</td>\n",
              "      <td>-0.001093</td>\n",
              "      <td>58.851237</td>\n",
              "      <td>98.220000</td>\n",
              "      <td>0.241482</td>\n",
              "      <td>0.0068</td>\n",
              "      <td>-0.005698</td>\n",
              "      <td>0.0080</td>\n",
              "      <td>0.004907</td>\n",
              "    </tr>\n",
              "    <tr>\n",
              "      <th>2020-11-01</th>\n",
              "      <td>-0.001253</td>\n",
              "      <td>-0.002717</td>\n",
              "      <td>0.013773</td>\n",
              "      <td>0.004091</td>\n",
              "      <td>0.009751</td>\n",
              "      <td>-0.000512</td>\n",
              "      <td>0.010856</td>\n",
              "      <td>0.010733</td>\n",
              "      <td>0.006639</td>\n",
              "      <td>0.002768</td>\n",
              "      <td>...</td>\n",
              "      <td>-0.008596</td>\n",
              "      <td>-0.005963</td>\n",
              "      <td>-0.000156</td>\n",
              "      <td>58.660440</td>\n",
              "      <td>96.856667</td>\n",
              "      <td>0.253146</td>\n",
              "      <td>0.0079</td>\n",
              "      <td>-0.001895</td>\n",
              "      <td>-0.0238</td>\n",
              "      <td>0.003661</td>\n",
              "    </tr>\n",
              "    <tr>\n",
              "      <th>2020-12-01</th>\n",
              "      <td>0.000581</td>\n",
              "      <td>-0.010059</td>\n",
              "      <td>-0.002639</td>\n",
              "      <td>-0.005558</td>\n",
              "      <td>-0.001850</td>\n",
              "      <td>-0.014095</td>\n",
              "      <td>0.005320</td>\n",
              "      <td>0.003676</td>\n",
              "      <td>0.004535</td>\n",
              "      <td>0.001491</td>\n",
              "      <td>...</td>\n",
              "      <td>0.005337</td>\n",
              "      <td>0.004147</td>\n",
              "      <td>0.008628</td>\n",
              "      <td>58.469643</td>\n",
              "      <td>95.493333</td>\n",
              "      <td>0.226352</td>\n",
              "      <td>0.0087</td>\n",
              "      <td>-0.005262</td>\n",
              "      <td>0.0093</td>\n",
              "      <td>0.002492</td>\n",
              "    </tr>\n",
              "  </tbody>\n",
              "</table>\n",
              "<p>741 rows × 119 columns</p>\n",
              "</div>\n",
              "    <div class=\"colab-df-buttons\">\n",
              "\n",
              "  <div class=\"colab-df-container\">\n",
              "    <button class=\"colab-df-convert\" onclick=\"convertToInteractive('df-218b9d71-4cf2-419a-8d4e-de3d232bd563')\"\n",
              "            title=\"Convert this dataframe to an interactive table.\"\n",
              "            style=\"display:none;\">\n",
              "\n",
              "  <svg xmlns=\"http://www.w3.org/2000/svg\" height=\"24px\" viewBox=\"0 -960 960 960\">\n",
              "    <path d=\"M120-120v-720h720v720H120Zm60-500h600v-160H180v160Zm220 220h160v-160H400v160Zm0 220h160v-160H400v160ZM180-400h160v-160H180v160Zm440 0h160v-160H620v160ZM180-180h160v-160H180v160Zm440 0h160v-160H620v160Z\"/>\n",
              "  </svg>\n",
              "    </button>\n",
              "\n",
              "  <style>\n",
              "    .colab-df-container {\n",
              "      display:flex;\n",
              "      gap: 12px;\n",
              "    }\n",
              "\n",
              "    .colab-df-convert {\n",
              "      background-color: #E8F0FE;\n",
              "      border: none;\n",
              "      border-radius: 50%;\n",
              "      cursor: pointer;\n",
              "      display: none;\n",
              "      fill: #1967D2;\n",
              "      height: 32px;\n",
              "      padding: 0 0 0 0;\n",
              "      width: 32px;\n",
              "    }\n",
              "\n",
              "    .colab-df-convert:hover {\n",
              "      background-color: #E2EBFA;\n",
              "      box-shadow: 0px 1px 2px rgba(60, 64, 67, 0.3), 0px 1px 3px 1px rgba(60, 64, 67, 0.15);\n",
              "      fill: #174EA6;\n",
              "    }\n",
              "\n",
              "    .colab-df-buttons div {\n",
              "      margin-bottom: 4px;\n",
              "    }\n",
              "\n",
              "    [theme=dark] .colab-df-convert {\n",
              "      background-color: #3B4455;\n",
              "      fill: #D2E3FC;\n",
              "    }\n",
              "\n",
              "    [theme=dark] .colab-df-convert:hover {\n",
              "      background-color: #434B5C;\n",
              "      box-shadow: 0px 1px 3px 1px rgba(0, 0, 0, 0.15);\n",
              "      filter: drop-shadow(0px 1px 2px rgba(0, 0, 0, 0.3));\n",
              "      fill: #FFFFFF;\n",
              "    }\n",
              "  </style>\n",
              "\n",
              "    <script>\n",
              "      const buttonEl =\n",
              "        document.querySelector('#df-218b9d71-4cf2-419a-8d4e-de3d232bd563 button.colab-df-convert');\n",
              "      buttonEl.style.display =\n",
              "        google.colab.kernel.accessAllowed ? 'block' : 'none';\n",
              "\n",
              "      async function convertToInteractive(key) {\n",
              "        const element = document.querySelector('#df-218b9d71-4cf2-419a-8d4e-de3d232bd563');\n",
              "        const dataTable =\n",
              "          await google.colab.kernel.invokeFunction('convertToInteractive',\n",
              "                                                    [key], {});\n",
              "        if (!dataTable) return;\n",
              "\n",
              "        const docLinkHtml = 'Like what you see? Visit the ' +\n",
              "          '<a target=\"_blank\" href=https://colab.research.google.com/notebooks/data_table.ipynb>data table notebook</a>'\n",
              "          + ' to learn more about interactive tables.';\n",
              "        element.innerHTML = '';\n",
              "        dataTable['output_type'] = 'display_data';\n",
              "        await google.colab.output.renderOutput(dataTable, element);\n",
              "        const docLink = document.createElement('div');\n",
              "        docLink.innerHTML = docLinkHtml;\n",
              "        element.appendChild(docLink);\n",
              "      }\n",
              "    </script>\n",
              "  </div>\n",
              "\n",
              "\n",
              "<div id=\"df-bd58868e-5182-402d-b820-f2f0fc4d3139\">\n",
              "  <button class=\"colab-df-quickchart\" onclick=\"quickchart('df-bd58868e-5182-402d-b820-f2f0fc4d3139')\"\n",
              "            title=\"Suggest charts\"\n",
              "            style=\"display:none;\">\n",
              "\n",
              "<svg xmlns=\"http://www.w3.org/2000/svg\" height=\"24px\"viewBox=\"0 0 24 24\"\n",
              "     width=\"24px\">\n",
              "    <g>\n",
              "        <path d=\"M19 3H5c-1.1 0-2 .9-2 2v14c0 1.1.9 2 2 2h14c1.1 0 2-.9 2-2V5c0-1.1-.9-2-2-2zM9 17H7v-7h2v7zm4 0h-2V7h2v10zm4 0h-2v-4h2v4z\"/>\n",
              "    </g>\n",
              "</svg>\n",
              "  </button>\n",
              "\n",
              "<style>\n",
              "  .colab-df-quickchart {\n",
              "      --bg-color: #E8F0FE;\n",
              "      --fill-color: #1967D2;\n",
              "      --hover-bg-color: #E2EBFA;\n",
              "      --hover-fill-color: #174EA6;\n",
              "      --disabled-fill-color: #AAA;\n",
              "      --disabled-bg-color: #DDD;\n",
              "  }\n",
              "\n",
              "  [theme=dark] .colab-df-quickchart {\n",
              "      --bg-color: #3B4455;\n",
              "      --fill-color: #D2E3FC;\n",
              "      --hover-bg-color: #434B5C;\n",
              "      --hover-fill-color: #FFFFFF;\n",
              "      --disabled-bg-color: #3B4455;\n",
              "      --disabled-fill-color: #666;\n",
              "  }\n",
              "\n",
              "  .colab-df-quickchart {\n",
              "    background-color: var(--bg-color);\n",
              "    border: none;\n",
              "    border-radius: 50%;\n",
              "    cursor: pointer;\n",
              "    display: none;\n",
              "    fill: var(--fill-color);\n",
              "    height: 32px;\n",
              "    padding: 0;\n",
              "    width: 32px;\n",
              "  }\n",
              "\n",
              "  .colab-df-quickchart:hover {\n",
              "    background-color: var(--hover-bg-color);\n",
              "    box-shadow: 0 1px 2px rgba(60, 64, 67, 0.3), 0 1px 3px 1px rgba(60, 64, 67, 0.15);\n",
              "    fill: var(--button-hover-fill-color);\n",
              "  }\n",
              "\n",
              "  .colab-df-quickchart-complete:disabled,\n",
              "  .colab-df-quickchart-complete:disabled:hover {\n",
              "    background-color: var(--disabled-bg-color);\n",
              "    fill: var(--disabled-fill-color);\n",
              "    box-shadow: none;\n",
              "  }\n",
              "\n",
              "  .colab-df-spinner {\n",
              "    border: 2px solid var(--fill-color);\n",
              "    border-color: transparent;\n",
              "    border-bottom-color: var(--fill-color);\n",
              "    animation:\n",
              "      spin 1s steps(1) infinite;\n",
              "  }\n",
              "\n",
              "  @keyframes spin {\n",
              "    0% {\n",
              "      border-color: transparent;\n",
              "      border-bottom-color: var(--fill-color);\n",
              "      border-left-color: var(--fill-color);\n",
              "    }\n",
              "    20% {\n",
              "      border-color: transparent;\n",
              "      border-left-color: var(--fill-color);\n",
              "      border-top-color: var(--fill-color);\n",
              "    }\n",
              "    30% {\n",
              "      border-color: transparent;\n",
              "      border-left-color: var(--fill-color);\n",
              "      border-top-color: var(--fill-color);\n",
              "      border-right-color: var(--fill-color);\n",
              "    }\n",
              "    40% {\n",
              "      border-color: transparent;\n",
              "      border-right-color: var(--fill-color);\n",
              "      border-top-color: var(--fill-color);\n",
              "    }\n",
              "    60% {\n",
              "      border-color: transparent;\n",
              "      border-right-color: var(--fill-color);\n",
              "    }\n",
              "    80% {\n",
              "      border-color: transparent;\n",
              "      border-right-color: var(--fill-color);\n",
              "      border-bottom-color: var(--fill-color);\n",
              "    }\n",
              "    90% {\n",
              "      border-color: transparent;\n",
              "      border-bottom-color: var(--fill-color);\n",
              "    }\n",
              "  }\n",
              "</style>\n",
              "\n",
              "  <script>\n",
              "    async function quickchart(key) {\n",
              "      const quickchartButtonEl =\n",
              "        document.querySelector('#' + key + ' button');\n",
              "      quickchartButtonEl.disabled = true;  // To prevent multiple clicks.\n",
              "      quickchartButtonEl.classList.add('colab-df-spinner');\n",
              "      try {\n",
              "        const charts = await google.colab.kernel.invokeFunction(\n",
              "            'suggestCharts', [key], {});\n",
              "      } catch (error) {\n",
              "        console.error('Error during call to suggestCharts:', error);\n",
              "      }\n",
              "      quickchartButtonEl.classList.remove('colab-df-spinner');\n",
              "      quickchartButtonEl.classList.add('colab-df-quickchart-complete');\n",
              "    }\n",
              "    (() => {\n",
              "      let quickchartButtonEl =\n",
              "        document.querySelector('#df-bd58868e-5182-402d-b820-f2f0fc4d3139 button');\n",
              "      quickchartButtonEl.style.display =\n",
              "        google.colab.kernel.accessAllowed ? 'block' : 'none';\n",
              "    })();\n",
              "  </script>\n",
              "</div>\n",
              "\n",
              "  <div id=\"id_757ae569-11db-4b67-b9a5-dbe648b51895\">\n",
              "    <style>\n",
              "      .colab-df-generate {\n",
              "        background-color: #E8F0FE;\n",
              "        border: none;\n",
              "        border-radius: 50%;\n",
              "        cursor: pointer;\n",
              "        display: none;\n",
              "        fill: #1967D2;\n",
              "        height: 32px;\n",
              "        padding: 0 0 0 0;\n",
              "        width: 32px;\n",
              "      }\n",
              "\n",
              "      .colab-df-generate:hover {\n",
              "        background-color: #E2EBFA;\n",
              "        box-shadow: 0px 1px 2px rgba(60, 64, 67, 0.3), 0px 1px 3px 1px rgba(60, 64, 67, 0.15);\n",
              "        fill: #174EA6;\n",
              "      }\n",
              "\n",
              "      [theme=dark] .colab-df-generate {\n",
              "        background-color: #3B4455;\n",
              "        fill: #D2E3FC;\n",
              "      }\n",
              "\n",
              "      [theme=dark] .colab-df-generate:hover {\n",
              "        background-color: #434B5C;\n",
              "        box-shadow: 0px 1px 3px 1px rgba(0, 0, 0, 0.15);\n",
              "        filter: drop-shadow(0px 1px 2px rgba(0, 0, 0, 0.3));\n",
              "        fill: #FFFFFF;\n",
              "      }\n",
              "    </style>\n",
              "    <button class=\"colab-df-generate\" onclick=\"generateWithVariable('X')\"\n",
              "            title=\"Generate code using this dataframe.\"\n",
              "            style=\"display:none;\">\n",
              "\n",
              "  <svg xmlns=\"http://www.w3.org/2000/svg\" height=\"24px\"viewBox=\"0 0 24 24\"\n",
              "       width=\"24px\">\n",
              "    <path d=\"M7,19H8.4L18.45,9,17,7.55,7,17.6ZM5,21V16.75L18.45,3.32a2,2,0,0,1,2.83,0l1.4,1.43a1.91,1.91,0,0,1,.58,1.4,1.91,1.91,0,0,1-.58,1.4L9.25,21ZM18.45,9,17,7.55Zm-12,3A5.31,5.31,0,0,0,4.9,8.1,5.31,5.31,0,0,0,1,6.5,5.31,5.31,0,0,0,4.9,4.9,5.31,5.31,0,0,0,6.5,1,5.31,5.31,0,0,0,8.1,4.9,5.31,5.31,0,0,0,12,6.5,5.46,5.46,0,0,0,6.5,12Z\"/>\n",
              "  </svg>\n",
              "    </button>\n",
              "    <script>\n",
              "      (() => {\n",
              "      const buttonEl =\n",
              "        document.querySelector('#id_757ae569-11db-4b67-b9a5-dbe648b51895 button.colab-df-generate');\n",
              "      buttonEl.style.display =\n",
              "        google.colab.kernel.accessAllowed ? 'block' : 'none';\n",
              "\n",
              "      buttonEl.onclick = () => {\n",
              "        google.colab.notebook.generateWithVariable('X');\n",
              "      }\n",
              "      })();\n",
              "    </script>\n",
              "  </div>\n",
              "\n",
              "    </div>\n",
              "  </div>\n"
            ],
            "application/vnd.google.colaboratory.intrinsic+json": {
              "type": "dataframe",
              "variable_name": "X"
            }
          },
          "metadata": {},
          "execution_count": 15
        }
      ],
      "source": [
        "X"
      ]
    },
    {
      "cell_type": "markdown",
      "metadata": {
        "id": "8Kic7InGhhfx"
      },
      "source": [
        "# Building the Neural Network"
      ]
    },
    {
      "cell_type": "markdown",
      "metadata": {
        "id": "DOCX_j0ohmZ6"
      },
      "source": [
        "## Some Universal Parameters"
      ]
    },
    {
      "cell_type": "code",
      "execution_count": 16,
      "metadata": {
        "id": "S2uGloeEdTVV"
      },
      "outputs": [],
      "source": [
        "# Set the Patience Level of Early Stopping\n",
        "# Iterations increase with patience\n",
        "\n",
        "# Number of epochs with no improvement after which training will be stopped.\n",
        "\n",
        "\n",
        "#patience = 2\n",
        "#patience = 3\n",
        "#patience = 4\n",
        "#patience = 5\n",
        "#patience = 6\n",
        "#patience = 7\n",
        "#patience = 8\n",
        "#patience = 9\n",
        "patience = 50\n",
        "\n",
        "early_stop = EarlyStopping(monitor='val_loss',patience=patience)"
      ]
    },
    {
      "cell_type": "code",
      "execution_count": 17,
      "metadata": {
        "id": "c326Z_YHh5jn"
      },
      "outputs": [],
      "source": [
        "### Select Activation Function by Uncommenting ###\n",
        "\n",
        "#act_fn = 'elu'       # Exponential Linear Unit\n",
        "#act_fn = 'gelu'      # Gaussian error linear unit\n",
        "#act_fn = 'selu'      # Scaled Exponential Linear Unit\n",
        "act_fn = 'relu'      # Rectified Linear Unit\n",
        "#act_fn = 'sigmoid'   # Sigmoid activation"
      ]
    },
    {
      "cell_type": "code",
      "execution_count": 18,
      "metadata": {
        "id": "bTxRvCOqiaaF"
      },
      "outputs": [],
      "source": [
        "### Select Loss Function by Uncommenting ###\n",
        "\n",
        "#loss = 'mean_squared_error' # Mean Squared Error Loss\n",
        "loss = 'huber' #Huber Loss\n",
        "#loss = 'mean_absolute_error"
      ]
    },
    {
      "cell_type": "code",
      "execution_count": 19,
      "metadata": {
        "id": "AOIbYUszie57"
      },
      "outputs": [],
      "source": [
        "### Select Optimizer by Uncommenting ###\n",
        "\n",
        "#optimizer = 'Adadelta' # Adadelta\n",
        "optimizer = 'adam' # Adam\n",
        "#optimizer = 'SGD'  # Stochastic Gradient Descent"
      ]
    },
    {
      "cell_type": "markdown",
      "metadata": {
        "id": "6NKDSrKpit7L"
      },
      "source": [
        "## Neural Net with 1 Layer - Shallow Net - NN(1)"
      ]
    },
    {
      "cell_type": "code",
      "execution_count": 20,
      "metadata": {
        "id": "IxxYzVkbirAZ"
      },
      "outputs": [],
      "source": [
        "#neurons = 3\n",
        "#neurons = 6\n",
        "#neurons = 9\n",
        "neurons = 119"
      ]
    },
    {
      "cell_type": "code",
      "execution_count": 21,
      "metadata": {
        "id": "HCiaTvTji66p",
        "outputId": "81526be8-74c6-46bc-b483-fa16d2a4055d",
        "colab": {
          "base_uri": "https://localhost:8080/",
          "height": 180
        }
      },
      "outputs": [
        {
          "output_type": "error",
          "ename": "NameError",
          "evalue": "name 'y_train' is not defined",
          "traceback": [
            "\u001b[0;31m---------------------------------------------------------------------------\u001b[0m",
            "\u001b[0;31mNameError\u001b[0m                                 Traceback (most recent call last)",
            "\u001b[0;32m<ipython-input-21-43d71d133a57>\u001b[0m in \u001b[0;36m<cell line: 7>\u001b[0;34m()\u001b[0m\n\u001b[1;32m      5\u001b[0m \u001b[0mmodel\u001b[0m\u001b[0;34m.\u001b[0m\u001b[0madd\u001b[0m\u001b[0;34m(\u001b[0m\u001b[0mDense\u001b[0m\u001b[0;34m(\u001b[0m\u001b[0;36m1\u001b[0m\u001b[0;34m)\u001b[0m\u001b[0;34m)\u001b[0m \u001b[0;31m# output layer\u001b[0m\u001b[0;34m\u001b[0m\u001b[0;34m\u001b[0m\u001b[0m\n\u001b[1;32m      6\u001b[0m \u001b[0mmodel\u001b[0m\u001b[0;34m.\u001b[0m\u001b[0mcompile\u001b[0m\u001b[0;34m(\u001b[0m\u001b[0mloss\u001b[0m\u001b[0;34m=\u001b[0m\u001b[0mloss\u001b[0m\u001b[0;34m,\u001b[0m \u001b[0moptimizer\u001b[0m\u001b[0;34m=\u001b[0m\u001b[0moptimizer\u001b[0m\u001b[0;34m)\u001b[0m\u001b[0;34m\u001b[0m\u001b[0;34m\u001b[0m\u001b[0m\n\u001b[0;32m----> 7\u001b[0;31m \u001b[0mmodel\u001b[0m\u001b[0;34m.\u001b[0m\u001b[0mfit\u001b[0m\u001b[0;34m(\u001b[0m\u001b[0mX_train\u001b[0m\u001b[0;34m,\u001b[0m\u001b[0my_train\u001b[0m\u001b[0;34m,\u001b[0m\u001b[0mvalidation_data\u001b[0m \u001b[0;34m=\u001b[0m \u001b[0;34m(\u001b[0m\u001b[0mX_valid\u001b[0m\u001b[0;34m,\u001b[0m\u001b[0my_valid\u001b[0m\u001b[0;34m)\u001b[0m\u001b[0;34m,\u001b[0m\u001b[0mepochs\u001b[0m\u001b[0;34m=\u001b[0m\u001b[0mepochs\u001b[0m\u001b[0;34m,\u001b[0m\u001b[0mcallbacks\u001b[0m\u001b[0;34m=\u001b[0m\u001b[0;34m[\u001b[0m\u001b[0mearly_stop\u001b[0m\u001b[0;34m]\u001b[0m\u001b[0;34m)\u001b[0m \u001b[0;31m#fit the model\u001b[0m\u001b[0;34m\u001b[0m\u001b[0;34m\u001b[0m\u001b[0m\n\u001b[0m",
            "\u001b[0;31mNameError\u001b[0m: name 'y_train' is not defined"
          ]
        }
      ],
      "source": [
        "epochs=500\n",
        "normalizer = Normalization(axis=-1)\n",
        "model = Sequential(normalizer) # scale the input variables\n",
        "model.add(Dense(neurons, activation=act_fn)) #define a single dense layer\n",
        "model.add(Dense(1)) # output layer\n",
        "model.compile(loss=loss, optimizer=optimizer)\n",
        "model.fit(X_train,y_train,validation_data = (X_valid,y_valid),epochs=epochs,callbacks=[early_stop]) #fit the model"
      ]
    },
    {
      "cell_type": "code",
      "execution_count": null,
      "metadata": {
        "colab": {
          "base_uri": "https://localhost:8080/"
        },
        "id": "u_9PrUbLj6PM",
        "outputId": "985d21d6-f331-41ef-f0be-fa223d2fcd70"
      },
      "outputs": [
        {
          "name": "stdout",
          "output_type": "stream",
          "text": [
            "1/1 [==============================] - 0s 25ms/step - loss: 0.2809\n"
          ]
        },
        {
          "data": {
            "text/plain": [
              "0.2808939516544342"
            ]
          },
          "execution_count": 116,
          "metadata": {},
          "output_type": "execute_result"
        }
      ],
      "source": [
        "model.evaluate(X_test,y_test)"
      ]
    },
    {
      "cell_type": "code",
      "execution_count": null,
      "metadata": {
        "colab": {
          "base_uri": "https://localhost:8080/"
        },
        "id": "n1YiJXjMj9D0",
        "outputId": "33f5653d-6a7a-431d-e0a4-cd742315dde1"
      },
      "outputs": [
        {
          "name": "stdout",
          "output_type": "stream",
          "text": [
            "WARNING:tensorflow:6 out of the last 9 calls to <function Model.make_predict_function.<locals>.predict_function at 0x7ff11475ac20> triggered tf.function retracing. Tracing is expensive and the excessive number of tracings could be due to (1) creating @tf.function repeatedly in a loop, (2) passing tensors with different shapes, (3) passing Python objects instead of tensors. For (1), please define your @tf.function outside of the loop. For (2), @tf.function has experimental_relax_shapes=True option that relaxes argument shapes that can avoid unnecessary retracing. For (3), please refer to https://www.tensorflow.org/guide/function#controlling_retracing and https://www.tensorflow.org/api_docs/python/tf/function for  more details.\n"
          ]
        }
      ],
      "source": [
        "y_pred_nn1 = model.predict(X_test)"
      ]
    },
    {
      "cell_type": "code",
      "execution_count": null,
      "metadata": {
        "colab": {
          "base_uri": "https://localhost:8080/",
          "height": 298
        },
        "id": "VPPNFOcPkcx6",
        "outputId": "4792061a-b6ee-4472-9243-9c4b99adbc7c"
      },
      "outputs": [
        {
          "data": {
            "text/plain": [
              "Text(0.5, 1.0, 'Shallow NeuralNet Forecast')"
            ]
          },
          "execution_count": 139,
          "metadata": {},
          "output_type": "execute_result"
        },
        {
          "data": {
            "image/png": "[encoded data removed]",
            "text/plain": [
              "<Figure size 432x288 with 1 Axes>"
            ]
          },
          "metadata": {
            "needs_background": "light"
          },
          "output_type": "display_data"
        }
      ],
      "source": [
        "X_grid = np.arange(len(X_test))\n",
        "X_grid = X_grid.reshape((len(X_grid), 1))\n",
        "plt.plot(X_grid,y_test)\n",
        "#plt.xlabel('date')\n",
        "plt.plot(X_grid,y_pred_nn1)\n",
        "plt.legend(('Actual','Forecast - NN1'))\n",
        "plt.title('Shallow NeuralNet Forecast')\n",
        "#plt.savefig('Shallow NeuralNet Test')"
      ]
    },
    {
      "cell_type": "markdown",
      "metadata": {
        "id": "SGZw_aCLlxzD"
      },
      "source": [
        "## Neural Net with 3 Layers"
      ]
    },
    {
      "cell_type": "code",
      "execution_count": null,
      "metadata": {
        "id": "Ifjxve76lw_I"
      },
      "outputs": [],
      "source": [
        "start_time = time.time()\n",
        "epochs = 500\n",
        "normalizer = Normalization(axis=-1)\n",
        "model_dnn = Sequential(normalizer) # scale the input variables\n",
        "model_dnn.add(Dense(119, activation=act_fn)) #define first dense layer with 119 neurons\n",
        "model_dnn.add(Dense(50,  activation=act_fn)) #define first dense layer with 50 neurons\n",
        "model_dnn.add(Dense(25,  activation=act_fn)) #define second dense layer with 25 neurons\n",
        "model_dnn.add(Dense(1)) # output layer\n",
        "model_dnn.compile(loss=loss, optimizer=optimizer) # define the loss and optimizer\n",
        "model_dnn.fit(X_train,y_train,validation_data = (X_valid,y_valid),epochs=epochs,callbacks=[early_stop]) #fit the model\n",
        "end_time = time.time()\n",
        "end_time - start_time"
      ]
    },
    {
      "cell_type": "code",
      "execution_count": null,
      "metadata": {
        "colab": {
          "base_uri": "https://localhost:8080/"
        },
        "id": "rbA0L--Kmnrl",
        "outputId": "f54e37d0-d5ca-4a85-ce76-7c04f68d79a4"
      },
      "outputs": [
        {
          "name": "stdout",
          "output_type": "stream",
          "text": [
            "1/1 [==============================] - 0s 23ms/step - loss: 0.0150\n"
          ]
        },
        {
          "data": {
            "text/plain": [
              "0.01504131406545639"
            ]
          },
          "execution_count": 130,
          "metadata": {},
          "output_type": "execute_result"
        }
      ],
      "source": [
        "model_dnn.evaluate(X_test,y_test)"
      ]
    },
    {
      "cell_type": "code",
      "execution_count": null,
      "metadata": {
        "id": "WwReg3Aemq6Z"
      },
      "outputs": [],
      "source": [
        "y_pred_nn3 = model_dnn.predict(X_test)"
      ]
    },
    {
      "cell_type": "code",
      "execution_count": null,
      "metadata": {
        "colab": {
          "base_uri": "https://localhost:8080/",
          "height": 298
        },
        "id": "lTtaexjPmn_F",
        "outputId": "59dbdf07-0379-4bdc-c489-c232d701ee15"
      },
      "outputs": [
        {
          "data": {
            "text/plain": [
              "Text(0.5, 1.0, 'NeuralNet Test data')"
            ]
          },
          "execution_count": 137,
          "metadata": {},
          "output_type": "execute_result"
        },
        {
          "data": {
            "image/png": "[encoded data removed]",
            "text/plain": [
              "<Figure size 432x288 with 1 Axes>"
            ]
          },
          "metadata": {
            "needs_background": "light"
          },
          "output_type": "display_data"
        }
      ],
      "source": [
        "X_grid = np.arange(len(X_test))\n",
        "X_grid = X_grid.reshape((len(X_grid), 1))\n",
        "plt.plot(X_grid,y_test)\n",
        "#plt.xlabel('date')\n",
        "plt.plot(X_grid,y_pred_nn1)\n",
        "plt.plot(X_grid,y_pred_nn3)\n",
        "plt.legend(('Actual','Forecast - NN1','Forecast - NN3'))\n",
        "plt.title('NeuralNet Test data')\n",
        "#plt.savefig('NeuralNet Test')"
      ]
    },
    {
      "cell_type": "code",
      "execution_count": null,
      "metadata": {
        "id": "AodvWpFMgEmB"
      },
      "outputs": [],
      "source": [
        "import keras_tuner as kt"
      ]
    },
    {
      "cell_type": "code",
      "execution_count": null,
      "metadata": {
        "id": "qSdnIe7K1VxA"
      },
      "outputs": [],
      "source": [
        "def build_model(hp):\n",
        "    normalizer = Normalization(axis=-1)\n",
        "    model = Sequential(normalizer)\n",
        "    model = keras.Sequential()\n",
        "    model.add(keras.layers.Dense(hp.Choice('units', [8,16,32,64]),activation=hp.Choice('activation',['relu','gelu','elu'])))\n",
        "    model.add(keras.layers.Dense(hp.Choice('units', [8,16,32,64]),activation=hp.Choice('activation',['relu','gelu','elu'])))\n",
        "    model.add(keras.layers.Dense(hp.Choice('units', [8,16,32,64]),activation=hp.Choice('activation',['relu','gelu','elu'])))\n",
        "    model.add(keras.layers.Dense(1))\n",
        "    model.compile(loss=hp.Choice('loss',['mean_squared_error','huber','mean_absolute_error']), optimizer='adam')\n",
        "    return model"
      ]
    },
    {
      "cell_type": "code",
      "execution_count": null,
      "metadata": {
        "id": "ynuybDw7gEmC"
      },
      "outputs": [],
      "source": [
        "tuner=kt.RandomSearch(build_model,objective='val_loss',max_trials=50)\n",
        "tuner.search(X_train,y_train,validation_data=(X_valid,y_valid),epochs=200)\n",
        "best_hps=tuner.get_best_hyperparameters(num_trials=50)[0]\n",
        "model = tuner.hypermodel.build(best_hps)\n",
        "model.fit(X_train, y_train, validation_split= 0 , epochs=200, verbose=0)"
      ]
    }
  ],
  "metadata": {
    "colab": {
      "provenance": [],
      "include_colab_link": true
    },
    "kernelspec": {
      "display_name": "Python 3",
      "name": "python3"
    },
    "language_info": {
      "name": "python"
    }
  },
  "nbformat": 4,
  "nbformat_minor": 0
}